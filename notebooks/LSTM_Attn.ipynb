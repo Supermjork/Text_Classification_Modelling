{
 "cells": [
  {
   "cell_type": "markdown",
   "metadata": {},
   "source": [
    "# LSTM + Attention Notebook\n",
    "\n",
    "This is a notebook to implement the LSTM model with Attention features within, will also be using the same data the LSTM Notebook will, which is the RNN's Preprocessing Output."
   ]
  },
  {
   "cell_type": "code",
   "execution_count": 1,
   "metadata": {},
   "outputs": [],
   "source": [
    "# Importing libraries to work with\n",
    "import re\n",
    "import os\n",
    "import nltk\n",
    "import spacy\n",
    "import torch\n",
    "import shutil\n",
    "import random\n",
    "import numpy as np\n",
    "import scipy as sci\n",
    "import polars as pl\n",
    "import pandas as pd\n",
    "import gensim as gns\n",
    "import seaborn as sns\n",
    "import matplotlib as mpl\n",
    "import matplotlib.pyplot as plt\n",
    "\n",
    "# For the sake of Preprocessing\n",
    "from nltk.stem import WordNetLemmatizer\n",
    "from nltk.tokenize import word_tokenize\n",
    "\n",
    "# Word Embedding\n",
    "from gensim.models import Word2Vec\n",
    "from gensim.models import KeyedVectors\n",
    "\n",
    "# Sklearn\n",
    "from sklearn.decomposition import PCA\n",
    "\n",
    "import torch\n",
    "import torch.nn as nn\n",
    "import torch.optim as optim\n",
    "from torch.utils.data import DataLoader, Dataset\n",
    "\n",
    "from sklearn.model_selection import train_test_split"
   ]
  },
  {
   "cell_type": "code",
   "execution_count": 2,
   "metadata": {},
   "outputs": [],
   "source": [
    "# Load w2v model\n",
    "w2v_skipgram = Word2Vec.load(\"../wordembed/w2v_sg.model\")"
   ]
  },
  {
   "cell_type": "code",
   "execution_count": 3,
   "metadata": {},
   "outputs": [],
   "source": [
    "# Define hyper params for later use\n",
    "EMBEDDING_DIM = 100\n",
    "HIDDEN_DIM = 128\n",
    "OUTPUT_DIM = 2\n",
    "EPOCHS = 15\n",
    "BATCH_SIZE = 100\n",
    "LR = 0.001\n",
    "MAX_SEQ_LEN = 40"
   ]
  },
  {
   "cell_type": "code",
   "execution_count": 4,
   "metadata": {},
   "outputs": [
    {
     "data": {
      "text/html": [
       "<div><style>\n",
       ".dataframe > thead > tr,\n",
       ".dataframe > tbody > tr {\n",
       "  text-align: right;\n",
       "  white-space: pre-wrap;\n",
       "}\n",
       "</style>\n",
       "<small>shape: (5, 2)</small><table border=\"1\" class=\"dataframe\"><thead><tr><th>review</th><th>sentiment</th></tr><tr><td>list[str]</td><td>str</td></tr></thead><tbody><tr><td>[&quot;one&quot;, &quot;reviewer&quot;, … &quot;side&quot;]</td><td>&quot;positive&quot;</td></tr><tr><td>[&quot;wonderful&quot;, &quot;little&quot;, … &quot;do&quot;]</td><td>&quot;positive&quot;</td></tr><tr><td>[&quot;think&quot;, &quot;wonderful&quot;, … &quot;friend&quot;]</td><td>&quot;positive&quot;</td></tr><tr><td>[&quot;basically&quot;, &quot;there&quot;, … &quot;ignore&quot;]</td><td>&quot;negative&quot;</td></tr><tr><td>[&quot;petter&quot;, &quot;matteis&quot;, … &quot;work&quot;]</td><td>&quot;positive&quot;</td></tr></tbody></table></div>"
      ],
      "text/plain": [
       "shape: (5, 2)\n",
       "┌─────────────────────────────────┬───────────┐\n",
       "│ review                          ┆ sentiment │\n",
       "│ ---                             ┆ ---       │\n",
       "│ list[str]                       ┆ str       │\n",
       "╞═════════════════════════════════╪═══════════╡\n",
       "│ [\"one\", \"reviewer\", … \"side\"]   ┆ positive  │\n",
       "│ [\"wonderful\", \"little\", … \"do\"… ┆ positive  │\n",
       "│ [\"think\", \"wonderful\", … \"frie… ┆ positive  │\n",
       "│ [\"basically\", \"there\", … \"igno… ┆ negative  │\n",
       "│ [\"petter\", \"matteis\", … \"work\"… ┆ positive  │\n",
       "└─────────────────────────────────┴───────────┘"
      ]
     },
     "execution_count": 4,
     "metadata": {},
     "output_type": "execute_result"
    }
   ],
   "source": [
    "# Load the data\n",
    "loadable_data = pl.read_ndjson(\"../data/imdb_clean.json\")\n",
    "\n",
    "loadable_data.head()"
   ]
  },
  {
   "cell_type": "code",
   "execution_count": 5,
   "metadata": {},
   "outputs": [],
   "source": [
    "def class_to_num(sentiment):\n",
    "    return 1 if sentiment == \"positive\" else 0\n",
    "\n",
    "loadable_data = loadable_data.with_columns(\n",
    "    pl.col(\"sentiment\").map_elements(class_to_num, return_dtype = int)\n",
    ")"
   ]
  },
  {
   "cell_type": "code",
   "execution_count": 6,
   "metadata": {},
   "outputs": [],
   "source": [
    "def review_to_embedding(review, max_seq_len, embedding_dim):\n",
    "    embeddings = [\n",
    "        w2v_skipgram.wv[word] if word in w2v_skipgram.wv else np.zeros(embedding_dim)\n",
    "        for word in review\n",
    "    ]\n",
    "    embeddings = embeddings[:max_seq_len]  # Truncate\n",
    "    # Pad with zeros if shorter than max_seq_len\n",
    "    if len(embeddings) < max_seq_len:\n",
    "        embeddings += [np.zeros(embedding_dim)] * (max_seq_len - len(embeddings))\n",
    "    return np.array(embeddings, dtype=np.float32)"
   ]
  },
  {
   "cell_type": "code",
   "execution_count": 7,
   "metadata": {},
   "outputs": [],
   "source": [
    "loadable_data = loadable_data.with_columns(\n",
    "    pl.col(\"review\").map_elements(lambda x: review_to_embedding(x, MAX_SEQ_LEN, EMBEDDING_DIM), return_dtype = list[list[float]])\n",
    ")"
   ]
  },
  {
   "cell_type": "code",
   "execution_count": 8,
   "metadata": {},
   "outputs": [],
   "source": [
    "X_train, X_test, y_train, y_test = train_test_split(\n",
    "    loadable_data[\"review\"],\n",
    "    loadable_data[\"sentiment\"],\n",
    "    test_size=0.2,\n",
    "    random_state=42\n",
    ")"
   ]
  },
  {
   "cell_type": "code",
   "execution_count": 9,
   "metadata": {},
   "outputs": [],
   "source": [
    "class SentimentDataset(Dataset):\n",
    "    def __init__(self, X, y):\n",
    "        self.X = X\n",
    "        self.y = y\n",
    "\n",
    "    def __len__(self):\n",
    "        return len(self.X)\n",
    "\n",
    "    def __getitem__(self, idx):\n",
    "        return torch.tensor(self.X[idx], dtype=torch.float32), torch.tensor(self.y[idx], dtype=torch.long)"
   ]
  },
  {
   "cell_type": "code",
   "execution_count": 10,
   "metadata": {},
   "outputs": [],
   "source": [
    "train_dataset = SentimentDataset(X_train, y_train)\n",
    "test_dataset = SentimentDataset(X_test, y_test)\n",
    "\n",
    "train_loader = DataLoader(train_dataset, batch_size=BATCH_SIZE, shuffle=True)\n",
    "test_loader = DataLoader(test_dataset, batch_size=BATCH_SIZE, shuffle=False)"
   ]
  },
  {
   "cell_type": "code",
   "execution_count": 11,
   "metadata": {},
   "outputs": [],
   "source": [
    "class LSTMAttention(nn.Module):\n",
    "    def __init__(self, input_size, hidden_dim, output_size, dropout=0.5):\n",
    "        super(LSTMAttention, self).__init__()\n",
    "        self.hidden_dim = hidden_dim\n",
    "        self.lstm = nn.LSTM(input_size, hidden_dim, batch_first=True)\n",
    "        self.dropout = nn.Dropout(dropout)\n",
    "        self.attention = nn.Linear(hidden_dim, 1)\n",
    "        self.fc = nn.Linear(hidden_dim, output_size)\n",
    "\n",
    "    def forward(self, x):\n",
    "        lstm_out, (hidden, _) = self.lstm(x)\n",
    "        attention_weights = torch.softmax(self.attention(lstm_out).squeeze(-1), dim=1)\n",
    "        context = torch.sum(lstm_out * attention_weights.unsqueeze(-1), dim=1)\n",
    "        context = self.dropout(context)\n",
    "        out = self.fc(context)\n",
    "        return out, attention_weights\n"
   ]
  },
  {
   "cell_type": "code",
   "execution_count": 12,
   "metadata": {},
   "outputs": [
    {
     "name": "stdout",
     "output_type": "stream",
     "text": [
      "Using device: cpu\n"
     ]
    }
   ],
   "source": [
    "device = torch.device('cuda' if torch.cuda.is_available() else 'cpu')\n",
    "print(f\"Using device: {device}\")"
   ]
  },
  {
   "cell_type": "code",
   "execution_count": 13,
   "metadata": {},
   "outputs": [],
   "source": [
    "model = LSTMAttention(EMBEDDING_DIM, HIDDEN_DIM, OUTPUT_DIM).to(device)\n",
    "\n",
    "criterion = nn.CrossEntropyLoss()\n",
    "optimizer = optim.Adam(model.parameters(), lr=LR)"
   ]
  },
  {
   "cell_type": "code",
   "execution_count": 14,
   "metadata": {},
   "outputs": [
    {
     "name": "stdout",
     "output_type": "stream",
     "text": [
      "Epoch 1/15, Train Loss: 0.4606, Test Loss: 0.4167, Test Accuracy: 80.77%\n",
      "Epoch 2/15, Train Loss: 0.4116, Test Loss: 0.3988, Test Accuracy: 81.69%\n",
      "Epoch 3/15, Train Loss: 0.3965, Test Loss: 0.3923, Test Accuracy: 82.12%\n",
      "Epoch 4/15, Train Loss: 0.3920, Test Loss: 0.3888, Test Accuracy: 82.48%\n",
      "Epoch 5/15, Train Loss: 0.3864, Test Loss: 0.3943, Test Accuracy: 82.04%\n",
      "Epoch 6/15, Train Loss: 0.3778, Test Loss: 0.4086, Test Accuracy: 81.30%\n",
      "Epoch 7/15, Train Loss: 0.3742, Test Loss: 0.3981, Test Accuracy: 81.80%\n",
      "Epoch 8/15, Train Loss: 0.3721, Test Loss: 0.3774, Test Accuracy: 83.05%\n",
      "Epoch 9/15, Train Loss: 0.3656, Test Loss: 0.3871, Test Accuracy: 82.50%\n",
      "Epoch 10/15, Train Loss: 0.3615, Test Loss: 0.3743, Test Accuracy: 83.15%\n",
      "Epoch 11/15, Train Loss: 0.3586, Test Loss: 0.3773, Test Accuracy: 83.23%\n",
      "Epoch 12/15, Train Loss: 0.3517, Test Loss: 0.3755, Test Accuracy: 83.15%\n",
      "Epoch 13/15, Train Loss: 0.3477, Test Loss: 0.3716, Test Accuracy: 83.20%\n",
      "Epoch 14/15, Train Loss: 0.3436, Test Loss: 0.3763, Test Accuracy: 83.22%\n",
      "Epoch 15/15, Train Loss: 0.3356, Test Loss: 0.3791, Test Accuracy: 83.15%\n",
      "Training and testing complete!\n"
     ]
    }
   ],
   "source": [
    "train_losses = []\n",
    "test_losses = []\n",
    "\n",
    "for epoch in range(EPOCHS):\n",
    "    # Training phase\n",
    "    model.train()\n",
    "    train_loss = 0\n",
    "    for X_batch, y_batch in train_loader:\n",
    "        X_batch, y_batch = X_batch.to(device), y_batch.to(device)\n",
    "        optimizer.zero_grad()\n",
    "        outputs, _ = model(X_batch)\n",
    "        loss = criterion(outputs, y_batch)\n",
    "        loss.backward()\n",
    "        torch.nn.utils.clip_grad_norm_(model.parameters(), max_norm=5)  # Gradient clipping\n",
    "        optimizer.step()\n",
    "        train_loss += loss.item()\n",
    "    train_loss /= len(train_loader)\n",
    "    train_losses.append(train_loss)\n",
    "\n",
    "    # Testing phase\n",
    "    model.eval()\n",
    "    test_loss = 0\n",
    "    correct, total = 0, 0\n",
    "    with torch.no_grad():\n",
    "        for X_batch, y_batch in test_loader:\n",
    "            X_batch, y_batch = X_batch.to(device), y_batch.to(device)\n",
    "            outputs, _ = model(X_batch)\n",
    "            loss = criterion(outputs, y_batch)\n",
    "            test_loss += loss.item()\n",
    "\n",
    "            # Calculate accuracy\n",
    "            _, predicted = torch.max(outputs, 1)\n",
    "            total += y_batch.size(0)\n",
    "            correct += (predicted == y_batch).sum().item()\n",
    "\n",
    "    test_loss /= len(test_loader)\n",
    "    test_losses.append(test_loss)\n",
    "    accuracy = 100 * correct / total\n",
    "\n",
    "    print(f\"Epoch {epoch + 1}/{EPOCHS}, Train Loss: {train_loss:.4f}, Test Loss: {test_loss:.4f}, Test Accuracy: {accuracy:.2f}%\")\n",
    "print(\"Training and testing complete!\")"
   ]
  },
  {
   "cell_type": "code",
   "execution_count": 15,
   "metadata": {},
   "outputs": [],
   "source": [
    "# Save losses for graphing\n",
    "torch.save({\"train\": train_losses, \"test\": test_losses}, \"../model_instances/LSTM_Attn/losses_lstm_attention.pt\")\n",
    "\n",
    "# Save the trained model\n",
    "torch.save(model.state_dict(), \"../model_instances/LSTM_Attn/sentiment_lstm_attention.pth\")"
   ]
  },
  {
   "cell_type": "code",
   "execution_count": 17,
   "metadata": {},
   "outputs": [
    {
     "name": "stdout",
     "output_type": "stream",
     "text": [
      "Predicted Sentiment: 0\n",
      "Attention Weights: tensor([[0.0235, 0.0227, 0.0246, 0.0272, 0.0251, 0.0246, 0.0235, 0.0213, 0.0239,\n",
      "         0.0308, 0.0263, 0.0109, 0.0132, 0.0114, 0.0111, 0.0164, 0.0158, 0.0407,\n",
      "         0.0351, 0.0269, 0.0279, 0.0242, 0.0183, 0.0213, 0.0363, 0.0240, 0.0273,\n",
      "         0.0245, 0.0249, 0.0229, 0.0297, 0.0273, 0.0263, 0.0254, 0.0236, 0.0259,\n",
      "         0.0278, 0.0368, 0.0411, 0.0295]])\n"
     ]
    }
   ],
   "source": [
    "model.eval()\n",
    "sample_review = torch.tensor(X_test[0], dtype=torch.float32).unsqueeze(0).to(device)\n",
    "output, attention_weights = model(sample_review)\n",
    "attention_weights = attention_weights.detach()\n",
    "\n",
    "print(f\"Predicted Sentiment: {torch.argmax(output).item()}\")\n",
    "print(f\"Attention Weights: {attention_weights}\")"
   ]
  },
  {
   "cell_type": "code",
   "execution_count": 18,
   "metadata": {},
   "outputs": [
    {
     "data": {
      "image/png": "[encoded data removed]",
      "text/plain": [
       "<Figure size 1000x600 with 1 Axes>"
      ]
     },
     "metadata": {},
     "output_type": "display_data"
    }
   ],
   "source": [
    "plt.figure(figsize=(10, 6))\n",
    "plt.plot(range(1, len(train_losses) + 1), train_losses, label=\"Training Loss\")\n",
    "plt.plot(range(1, len(test_losses) + 1), test_losses, label=\"Testing Loss\", linestyle=\"--\")\n",
    "plt.xlabel(\"Epoch\")\n",
    "plt.ylabel(\"Loss\")\n",
    "plt.title(\"Training and Testing Loss Over Epochs (LSTM with Attention)\")\n",
    "plt.legend()\n",
    "plt.show()"
   ]
  },
  {
   "cell_type": "markdown",
   "metadata": {},
   "source": [
    "# Text Summarisation Task"
   ]
  }
 ],
 "metadata": {
  "kernelspec": {
   "display_name": "venv_nlp",
   "language": "python",
   "name": "python3"
  },
  "language_info": {
   "codemirror_mode": {
    "name": "ipython",
    "version": 3
   },
   "file_extension": ".py",
   "mimetype": "text/x-python",
   "name": "python",
   "nbconvert_exporter": "python",
   "pygments_lexer": "ipython3",
   "version": "3.12.2"
  }
 },
 "nbformat": 4,
 "nbformat_minor": 2
}
