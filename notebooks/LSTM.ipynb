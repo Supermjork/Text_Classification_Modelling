{
 "cells": [
  {
   "cell_type": "markdown",
   "metadata": {},
   "source": [
    "# LSTM Notebook\n",
    "\n",
    "This is a notebook to be used for implementing the LSTM model using PyTorch. Will be using the same data the RNN Notebook has already preprocessed."
   ]
  }
 ],
 "metadata": {
  "language_info": {
   "name": "python"
  }
 },
 "nbformat": 4,
 "nbformat_minor": 2
}
