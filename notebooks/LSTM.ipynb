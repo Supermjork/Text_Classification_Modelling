{
 "cells": [
  {
   "cell_type": "markdown",
   "metadata": {},
   "source": [
    "# LSTM Notebook\n",
    "\n",
    "This is a notebook to be used for implementing the LSTM model using PyTorch. Will be using the same data the RNN Notebook has already preprocessed."
   ]
  },
  {
   "cell_type": "code",
   "execution_count": 1,
   "metadata": {},
   "outputs": [],
   "source": [
    "# Importing libraries to work with\n",
    "import re\n",
    "import os\n",
    "import nltk\n",
    "import spacy\n",
    "import torch\n",
    "import shutil\n",
    "import random\n",
    "import numpy as np\n",
    "import scipy as sci\n",
    "import polars as pl\n",
    "import pandas as pd\n",
    "import gensim as gns\n",
    "import seaborn as sns\n",
    "import matplotlib as mpl\n",
    "import matplotlib.pyplot as plt\n",
    "\n",
    "# For the sake of Preprocessing\n",
    "from nltk.stem import WordNetLemmatizer\n",
    "from nltk.tokenize import word_tokenize\n",
    "\n",
    "# Word Embedding\n",
    "from gensim.models import Word2Vec\n",
    "from gensim.models import KeyedVectors\n",
    "\n",
    "# Sklearn\n",
    "from sklearn.decomposition import PCA\n",
    "\n",
    "import torch\n",
    "import torch.nn as nn\n",
    "import torch.optim as optim\n",
    "from torch.utils.data import DataLoader, Dataset\n",
    "\n",
    "from sklearn.model_selection import train_test_split"
   ]
  },
  {
   "cell_type": "code",
   "execution_count": 2,
   "metadata": {},
   "outputs": [],
   "source": [
    "# Load w2v model\n",
    "w2v_skipgram = Word2Vec.load(\"../wordembed/w2v_sg.model\")"
   ]
  },
  {
   "cell_type": "code",
   "execution_count": 3,
   "metadata": {},
   "outputs": [],
   "source": [
    "# Define hyper params for later use\n",
    "EMBEDDING_DIM = 100\n",
    "HIDDEN_DIM = 128\n",
    "OUTPUT_DIM = 2\n",
    "EPOCHS = 15\n",
    "BATCH_SIZE = 100\n",
    "LR = 0.001\n",
    "MAX_SEQ_LEN = 40"
   ]
  },
  {
   "cell_type": "code",
   "execution_count": 4,
   "metadata": {},
   "outputs": [
    {
     "data": {
      "text/html": [
       "<div><style>\n",
       ".dataframe > thead > tr,\n",
       ".dataframe > tbody > tr {\n",
       "  text-align: right;\n",
       "  white-space: pre-wrap;\n",
       "}\n",
       "</style>\n",
       "<small>shape: (5, 2)</small><table border=\"1\" class=\"dataframe\"><thead><tr><th>review</th><th>sentiment</th></tr><tr><td>list[str]</td><td>str</td></tr></thead><tbody><tr><td>[&quot;one&quot;, &quot;reviewer&quot;, … &quot;side&quot;]</td><td>&quot;positive&quot;</td></tr><tr><td>[&quot;wonderful&quot;, &quot;little&quot;, … &quot;do&quot;]</td><td>&quot;positive&quot;</td></tr><tr><td>[&quot;think&quot;, &quot;wonderful&quot;, … &quot;friend&quot;]</td><td>&quot;positive&quot;</td></tr><tr><td>[&quot;basically&quot;, &quot;there&quot;, … &quot;ignore&quot;]</td><td>&quot;negative&quot;</td></tr><tr><td>[&quot;petter&quot;, &quot;matteis&quot;, … &quot;work&quot;]</td><td>&quot;positive&quot;</td></tr></tbody></table></div>"
      ],
      "text/plain": [
       "shape: (5, 2)\n",
       "┌─────────────────────────────────┬───────────┐\n",
       "│ review                          ┆ sentiment │\n",
       "│ ---                             ┆ ---       │\n",
       "│ list[str]                       ┆ str       │\n",
       "╞═════════════════════════════════╪═══════════╡\n",
       "│ [\"one\", \"reviewer\", … \"side\"]   ┆ positive  │\n",
       "│ [\"wonderful\", \"little\", … \"do\"… ┆ positive  │\n",
       "│ [\"think\", \"wonderful\", … \"frie… ┆ positive  │\n",
       "│ [\"basically\", \"there\", … \"igno… ┆ negative  │\n",
       "│ [\"petter\", \"matteis\", … \"work\"… ┆ positive  │\n",
       "└─────────────────────────────────┴───────────┘"
      ]
     },
     "execution_count": 4,
     "metadata": {},
     "output_type": "execute_result"
    }
   ],
   "source": [
    "# Load the data\n",
    "loadable_data = pl.read_ndjson(\"../data/imdb_clean.json\")\n",
    "\n",
    "loadable_data.head()"
   ]
  },
  {
   "cell_type": "code",
   "execution_count": 5,
   "metadata": {},
   "outputs": [],
   "source": [
    "def class_to_num(sentiment):\n",
    "    return 1 if sentiment == \"positive\" else 0\n",
    "\n",
    "loadable_data = loadable_data.with_columns(\n",
    "    pl.col(\"sentiment\").map_elements(class_to_num, return_dtype = int)\n",
    ")"
   ]
  },
  {
   "cell_type": "code",
   "execution_count": 6,
   "metadata": {},
   "outputs": [],
   "source": [
    "def review_to_embedding(review, max_seq_len, embedding_dim):\n",
    "    embeddings = [\n",
    "        w2v_skipgram.wv[word] if word in w2v_skipgram.wv else np.zeros(embedding_dim)\n",
    "        for word in review\n",
    "    ]\n",
    "    embeddings = embeddings[:max_seq_len]  # Truncate\n",
    "    # Pad with zeros if shorter than max_seq_len\n",
    "    if len(embeddings) < max_seq_len:\n",
    "        embeddings += [np.zeros(embedding_dim)] * (max_seq_len - len(embeddings))\n",
    "    return np.array(embeddings, dtype=np.float32)"
   ]
  },
  {
   "cell_type": "code",
   "execution_count": 7,
   "metadata": {},
   "outputs": [],
   "source": [
    "loadable_data = loadable_data.with_columns(\n",
    "    pl.col(\"review\").map_elements(lambda x: review_to_embedding(x, MAX_SEQ_LEN, EMBEDDING_DIM), return_dtype = list[list[float]])\n",
    ")"
   ]
  },
  {
   "cell_type": "code",
   "execution_count": 8,
   "metadata": {},
   "outputs": [
    {
     "data": {
      "text/html": [
       "<div><style>\n",
       ".dataframe > thead > tr,\n",
       ".dataframe > tbody > tr {\n",
       "  text-align: right;\n",
       "  white-space: pre-wrap;\n",
       "}\n",
       "</style>\n",
       "<small>shape: (5, 2)</small><table border=\"1\" class=\"dataframe\"><thead><tr><th>review</th><th>sentiment</th></tr><tr><td>list[list[f64]]</td><td>i64</td></tr></thead><tbody><tr><td>[[0.053646, 0.169129, … -0.117089], [0.059409, 0.257952, … -0.150777], … [0.237985, 0.285544, … 0.107752]]</td><td>1</td></tr><tr><td>[[0.069264, 0.210273, … -0.045096], [-0.046261, 0.047188, … -0.098948], … [0.039598, -0.053692, … -0.114939]]</td><td>1</td></tr><tr><td>[[0.07442, 0.106315, … -0.042415], [0.069264, 0.210273, … -0.045096], … [0.042387, 0.08614, … -0.150596]]</td><td>1</td></tr><tr><td>[[-0.073931, 0.041117, … -0.132843], [-0.067784, -0.000722, … -0.014203], … [-0.013528, 0.08617, … -0.264038]]</td><td>0</td></tr><tr><td>[[0.0, 0.0, … 0.0], [0.185396, 0.459882, … -0.617428], … [0.124108, 0.039394, … -0.057854]]</td><td>1</td></tr></tbody></table></div>"
      ],
      "text/plain": [
       "shape: (5, 2)\n",
       "┌─────────────────────────────────┬───────────┐\n",
       "│ review                          ┆ sentiment │\n",
       "│ ---                             ┆ ---       │\n",
       "│ list[list[f64]]                 ┆ i64       │\n",
       "╞═════════════════════════════════╪═══════════╡\n",
       "│ [[0.053646, 0.169129, … -0.117… ┆ 1         │\n",
       "│ [[0.069264, 0.210273, … -0.045… ┆ 1         │\n",
       "│ [[0.07442, 0.106315, … -0.0424… ┆ 1         │\n",
       "│ [[-0.073931, 0.041117, … -0.13… ┆ 0         │\n",
       "│ [[0.0, 0.0, … 0.0], [0.185396,… ┆ 1         │\n",
       "└─────────────────────────────────┴───────────┘"
      ]
     },
     "execution_count": 8,
     "metadata": {},
     "output_type": "execute_result"
    }
   ],
   "source": [
    "loadable_data.head()"
   ]
  },
  {
   "cell_type": "code",
   "execution_count": 9,
   "metadata": {},
   "outputs": [],
   "source": [
    "X_train, X_test, y_train, y_test = train_test_split(\n",
    "    loadable_data[\"review\"],\n",
    "    loadable_data[\"sentiment\"],\n",
    "    test_size=0.2,\n",
    "    random_state=42\n",
    ")"
   ]
  },
  {
   "cell_type": "code",
   "execution_count": 10,
   "metadata": {},
   "outputs": [],
   "source": [
    "class SentimentDataset(Dataset):\n",
    "    def __init__(self, X, y):\n",
    "        self.X = X\n",
    "        self.y = y\n",
    "\n",
    "    def __len__(self):\n",
    "        return len(self.X)\n",
    "\n",
    "    def __getitem__(self, idx):\n",
    "        return torch.tensor(self.X[idx], dtype=torch.float32), torch.tensor(self.y[idx], dtype=torch.long)"
   ]
  },
  {
   "cell_type": "code",
   "execution_count": 11,
   "metadata": {},
   "outputs": [],
   "source": [
    "train_dataset = SentimentDataset(X_train, y_train)\n",
    "test_dataset = SentimentDataset(X_test, y_test)\n",
    "\n",
    "train_loader = DataLoader(train_dataset, batch_size=BATCH_SIZE, shuffle=True)\n",
    "test_loader = DataLoader(test_dataset, batch_size=BATCH_SIZE, shuffle=False)"
   ]
  },
  {
   "cell_type": "code",
   "execution_count": null,
   "metadata": {},
   "outputs": [],
   "source": [
    "# Architecture...?\n",
    "class SentimentLSTM(nn.Module):\n",
    "    def __init__(self, input_size, hidden_dim, output_size, dropout=0.5):\n",
    "        super(SentimentLSTM, self).__init__()\n",
    "        self.hidden_dim = hidden_dim\n",
    "        self.lstm = nn.LSTM(input_size, hidden_dim, batch_first=True)\n",
    "        self.dropout = nn.Dropout(dropout)\n",
    "        self.fc = nn.Linear(hidden_dim, output_size)\n",
    "\n",
    "    def forward(self, x):\n",
    "        _, (hidden, _) = self.lstm(x)\n",
    "        hidden = self.dropout(hidden.squeeze(0))\n",
    "        out = self.fc(hidden)\n",
    "        return out"
   ]
  },
  {
   "cell_type": "code",
   "execution_count": 13,
   "metadata": {},
   "outputs": [
    {
     "name": "stdout",
     "output_type": "stream",
     "text": [
      "Using device: cpu\n"
     ]
    }
   ],
   "source": [
    "device = torch.device('cuda' if torch.cuda.is_available() else 'cpu')\n",
    "print(f\"Using device: {device}\")"
   ]
  },
  {
   "cell_type": "code",
   "execution_count": 14,
   "metadata": {},
   "outputs": [],
   "source": [
    "model = SentimentLSTM(EMBEDDING_DIM, HIDDEN_DIM, OUTPUT_DIM).to(device)\n",
    "\n",
    "criterion = nn.CrossEntropyLoss()\n",
    "optimizer = optim.Adam(model.parameters(), lr=LR)"
   ]
  },
  {
   "cell_type": "code",
   "execution_count": 15,
   "metadata": {},
   "outputs": [
    {
     "name": "stdout",
     "output_type": "stream",
     "text": [
      "Epoch 1/15, Train Loss: 0.4555, Test Loss: 0.4034, Test Accuracy: 81.48%\n",
      "Epoch 2/15, Train Loss: 0.4148, Test Loss: 0.4001, Test Accuracy: 81.68%\n",
      "Epoch 3/15, Train Loss: 0.4077, Test Loss: 0.4021, Test Accuracy: 81.89%\n",
      "Epoch 4/15, Train Loss: 0.4033, Test Loss: 0.4121, Test Accuracy: 81.98%\n",
      "Epoch 5/15, Train Loss: 0.4003, Test Loss: 0.4206, Test Accuracy: 81.57%\n",
      "Epoch 6/15, Train Loss: 0.3927, Test Loss: 0.3892, Test Accuracy: 82.08%\n",
      "Epoch 7/15, Train Loss: 0.3870, Test Loss: 0.3921, Test Accuracy: 81.92%\n",
      "Epoch 8/15, Train Loss: 0.3833, Test Loss: 0.4013, Test Accuracy: 81.93%\n",
      "Epoch 9/15, Train Loss: 0.3776, Test Loss: 0.3834, Test Accuracy: 83.00%\n",
      "Epoch 10/15, Train Loss: 0.3732, Test Loss: 0.3809, Test Accuracy: 82.78%\n",
      "Epoch 11/15, Train Loss: 0.3689, Test Loss: 0.3827, Test Accuracy: 83.01%\n",
      "Epoch 12/15, Train Loss: 0.3654, Test Loss: 0.3749, Test Accuracy: 83.11%\n",
      "Epoch 13/15, Train Loss: 0.3625, Test Loss: 0.3804, Test Accuracy: 83.22%\n",
      "Epoch 14/15, Train Loss: 0.3544, Test Loss: 0.3856, Test Accuracy: 83.38%\n",
      "Epoch 15/15, Train Loss: 0.3503, Test Loss: 0.3772, Test Accuracy: 83.11%\n",
      "Training and testing complete!\n"
     ]
    }
   ],
   "source": [
    "# Training loop with testing\n",
    "train_losses = []\n",
    "test_losses = []\n",
    "\n",
    "for epoch in range(EPOCHS):\n",
    "    # Training phase\n",
    "    model.train()\n",
    "    train_loss = 0\n",
    "    for X_batch, y_batch in train_loader:\n",
    "        X_batch, y_batch = X_batch.to(device), y_batch.to(device)\n",
    "        optimizer.zero_grad()\n",
    "        outputs = model(X_batch)\n",
    "        loss = criterion(outputs, y_batch)\n",
    "        loss.backward()\n",
    "        torch.nn.utils.clip_grad_norm_(model.parameters(), max_norm=5)  # Gradient clipping\n",
    "        optimizer.step()\n",
    "        train_loss += loss.item()\n",
    "    train_loss /= len(train_loader)\n",
    "    train_losses.append(train_loss)\n",
    "\n",
    "    # Testing phase\n",
    "    model.eval()\n",
    "    test_loss = 0\n",
    "    correct, total = 0, 0\n",
    "    with torch.no_grad():\n",
    "        for X_batch, y_batch in test_loader:\n",
    "            X_batch, y_batch = X_batch.to(device), y_batch.to(device)\n",
    "            outputs = model(X_batch)\n",
    "            loss = criterion(outputs, y_batch)\n",
    "            test_loss += loss.item()\n",
    "\n",
    "            # Calculate accuracy\n",
    "            _, predicted = torch.max(outputs, 1)\n",
    "            total += y_batch.size(0)\n",
    "            correct += (predicted == y_batch).sum().item()\n",
    "\n",
    "    test_loss /= len(test_loader)\n",
    "    test_losses.append(test_loss)\n",
    "    accuracy = 100 * correct / total\n",
    "\n",
    "    print(f\"Epoch {epoch + 1}/{EPOCHS}, Train Loss: {train_loss:.4f}, Test Loss: {test_loss:.4f}, Test Accuracy: {accuracy:.2f}%\")\n",
    "\n",
    "print(\"Training and testing complete!\")"
   ]
  },
  {
   "cell_type": "code",
   "execution_count": 16,
   "metadata": {},
   "outputs": [],
   "source": [
    "# Save losses for graphing\n",
    "torch.save({\"train\": train_losses, \"test\": test_losses}, \"../model_instances/LSTM/losses_lstm.pt\")\n",
    "\n",
    "# Save the trained model\n",
    "torch.save(model.state_dict(), \"../model_instances/LSTM/sentiment_lstm.pth\")"
   ]
  },
  {
   "cell_type": "code",
   "execution_count": 17,
   "metadata": {},
   "outputs": [
    {
     "data": {
      "image/png": "[encoded data removed]",
      "text/plain": [
       "<Figure size 1000x600 with 1 Axes>"
      ]
     },
     "metadata": {},
     "output_type": "display_data"
    }
   ],
   "source": [
    "# Plot the losses\n",
    "plt.figure(figsize=(10, 6))\n",
    "plt.plot(range(1, len(train_losses) + 1), train_losses, label=\"Training Loss\")\n",
    "plt.plot(range(1, len(test_losses) + 1), test_losses, label=\"Testing Loss\", linestyle=\"--\")\n",
    "plt.xlabel(\"Epoch\")\n",
    "plt.ylabel(\"Loss\")\n",
    "plt.title(\"Training and Testing Loss Over Epochs (LSTM)\")\n",
    "plt.legend()\n",
    "plt.show()"
   ]
  },
  {
   "cell_type": "markdown",
   "metadata": {},
   "source": [
    "# Text Summarisation Task"
   ]
  }
 ],
 "metadata": {
  "kernelspec": {
   "display_name": "venv_nlp",
   "language": "python",
   "name": "python3"
  },
  "language_info": {
   "codemirror_mode": {
    "name": "ipython",
    "version": 3
   },
   "file_extension": ".py",
   "mimetype": "text/x-python",
   "name": "python",
   "nbconvert_exporter": "python",
   "pygments_lexer": "ipython3",
   "version": "3.12.2"
  }
 },
 "nbformat": 4,
 "nbformat_minor": 2
}
