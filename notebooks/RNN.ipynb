{
 "cells": [
  {
   "cell_type": "markdown",
   "metadata": {},
   "source": [
    "# RNN Notebook\n",
    "\n",
    "Notebook made for the RNN part of the assignment. Will contain all preprocessing and such, as well as implementation.\n",
    "\n",
    "This is a placeholder cell, code will follow later."
   ]
  }
 ],
 "metadata": {
  "language_info": {
   "name": "python"
  }
 },
 "nbformat": 4,
 "nbformat_minor": 2
}
