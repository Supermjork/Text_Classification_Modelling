{
 "cells": [
  {
   "cell_type": "markdown",
   "metadata": {},
   "source": [
    "# RNN Notebook\n",
    "\n",
    "Notebook made for the RNN part of the assignment. Will contain all preprocessing and such, as well as implementation.\n",
    "\n",
    "This is a placeholder cell, code will follow later."
   ]
  },
  {
   "cell_type": "code",
   "execution_count": 1,
   "metadata": {},
   "outputs": [],
   "source": [
    "# Importing libraries to work with\n",
    "import re\n",
    "import os\n",
    "import nltk\n",
    "import spacy\n",
    "import torch\n",
    "import shutil\n",
    "import random\n",
    "import numpy as np\n",
    "import scipy as sci\n",
    "import polars as pl\n",
    "import pandas as pd\n",
    "import gensim as gns\n",
    "import seaborn as sns\n",
    "import matplotlib as mpl\n",
    "import matplotlib.pyplot as plt\n",
    "\n",
    "# For the sake of Preprocessing\n",
    "from nltk.stem import WordNetLemmatizer\n",
    "from nltk.tokenize import word_tokenize\n",
    "\n",
    "# Word Embedding\n",
    "from gensim.models import Word2Vec\n",
    "from gensim.models import KeyedVectors\n",
    "\n",
    "# Sklearn\n",
    "from sklearn.decomposition import PCA"
   ]
  },
  {
   "cell_type": "code",
   "execution_count": 2,
   "metadata": {},
   "outputs": [
    {
     "name": "stdout",
     "output_type": "stream",
     "text": [
      "NumPy Version: 1.26.4\n",
      "Polars Version: 1.16.0\n",
      "MatPlotLib Version: 3.9.3\n",
      "Seaborn Version: 0.13.2\n",
      "PyTorch Version: 2.5.1+cpu\n",
      "NLTK Version: 3.9.1\n",
      "SpaCy Version: 3.8.2\n",
      "Gensim Version: 4.3.3\n",
      "SciPy Version: 1.13.1\n"
     ]
    }
   ],
   "source": [
    "# Display the libraries' versions used in this notebook\n",
    "version_list = {\"NumPy Version:\": np.__version__,\n",
    "                \"Polars Version:\": pl.__version__,\n",
    "                \"MatPlotLib Version:\": mpl.__version__,\n",
    "                \"Seaborn Version:\": sns.__version__,\n",
    "                \"PyTorch Version:\": torch.__version__,\n",
    "                \"NLTK Version:\": nltk.__version__,\n",
    "                \"SpaCy Version:\": spacy.__version__,\n",
    "                \"Gensim Version:\": gns.__version__,\n",
    "                \"SciPy Version:\": sci.__version__}\n",
    "\n",
    "for (k, v) in version_list.items():\n",
    "    print(k, v)"
   ]
  },
  {
   "cell_type": "code",
   "execution_count": 3,
   "metadata": {},
   "outputs": [],
   "source": [
    "# Defining path to install NLTK libraries in\n",
    "NLTK_LIB_PATH = os.path.join(\"..\", \"venv_nlp\", \"Lib\", \"nltk_data\")\n",
    "\n",
    "# Defining download function\n",
    "def download_libs():\n",
    "    libraries = {\n",
    "        \"corpora\\\\stopwords\": \"stopwords\",\n",
    "        \"corpora\\\\wordnet\": \"wordnet\"\n",
    "    }\n",
    "\n",
    "    for resource, package in libraries.items():\n",
    "        try:\n",
    "            nltk.data.find(resource)\n",
    "            print(f\"{package.capitalize()} data exists.\")\n",
    "        except LookupError:\n",
    "            print(f\"Downloading {package}...\")\n",
    "\n",
    "            # Handle potential corrupted files\n",
    "            resource_path = os.path.join(NLTK_LIB_PATH, *resource.split('\\\\'))\n",
    "            if os.path.exists(resource_path):\n",
    "                print(f\"Removing corrupted file: {resource_path}\")\n",
    "                try:\n",
    "                    shutil.rmtree(resource_path) if os.path.isdir(resource_path) else os.remove(resource_path)\n",
    "                except Exception as e:\n",
    "                    print(f\"Error removing corrupted file {resource_path}: {e}\")\n",
    "            # Attempt download again\n",
    "            nltk.download(package, download_dir=NLTK_LIB_PATH)\n",
    "        except Exception as e:\n",
    "            print(f\"Unexpected error checking {package}: {e}\")"
   ]
  },
  {
   "cell_type": "code",
   "execution_count": 4,
   "metadata": {},
   "outputs": [
    {
     "name": "stdout",
     "output_type": "stream",
     "text": [
      "Using NLTK data directory: ..\\venv_nlp\\Lib\\nltk_data\n",
      "Stopwords data exists.\n",
      "Wordnet data exists.\n"
     ]
    }
   ],
   "source": [
    "try:\n",
    "    os.makedirs(NLTK_LIB_PATH, exist_ok=True)\n",
    "    print(f\"Using NLTK data directory: {NLTK_LIB_PATH}\")\n",
    "    download_libs()\n",
    "except PermissionError:\n",
    "    print(f\"Permission denied: Unable to create or write to directory '{NLTK_LIB_PATH}'\")\n",
    "except Exception as e:\n",
    "    print(f\"An unexpected error occurred: {e}\")"
   ]
  },
  {
   "cell_type": "markdown",
   "metadata": {},
   "source": [
    "# Data Loading"
   ]
  },
  {
   "cell_type": "code",
   "execution_count": 5,
   "metadata": {},
   "outputs": [],
   "source": [
    "reviews = pl.read_csv(\"../data/IMDB Dataset.csv\")"
   ]
  },
  {
   "cell_type": "code",
   "execution_count": 6,
   "metadata": {},
   "outputs": [
    {
     "data": {
      "text/html": [
       "<div><style>\n",
       ".dataframe > thead > tr,\n",
       ".dataframe > tbody > tr {\n",
       "  text-align: right;\n",
       "  white-space: pre-wrap;\n",
       "}\n",
       "</style>\n",
       "<small>shape: (10, 2)</small><table border=\"1\" class=\"dataframe\"><thead><tr><th>review</th><th>sentiment</th></tr><tr><td>str</td><td>str</td></tr></thead><tbody><tr><td>&quot;One of the other reviewers has…</td><td>&quot;positive&quot;</td></tr><tr><td>&quot;A wonderful little production.…</td><td>&quot;positive&quot;</td></tr><tr><td>&quot;I thought this was a wonderful…</td><td>&quot;positive&quot;</td></tr><tr><td>&quot;Basically there&#x27;s a family whe…</td><td>&quot;negative&quot;</td></tr><tr><td>&quot;Petter Mattei&#x27;s &quot;Love in the T…</td><td>&quot;positive&quot;</td></tr><tr><td>&quot;Probably my all-time favorite …</td><td>&quot;positive&quot;</td></tr><tr><td>&quot;I sure would like to see a res…</td><td>&quot;positive&quot;</td></tr><tr><td>&quot;This show was an amazing, fres…</td><td>&quot;negative&quot;</td></tr><tr><td>&quot;Encouraged by the positive com…</td><td>&quot;negative&quot;</td></tr><tr><td>&quot;If you like original gut wrenc…</td><td>&quot;positive&quot;</td></tr></tbody></table></div>"
      ],
      "text/plain": [
       "shape: (10, 2)\n",
       "┌─────────────────────────────────┬───────────┐\n",
       "│ review                          ┆ sentiment │\n",
       "│ ---                             ┆ ---       │\n",
       "│ str                             ┆ str       │\n",
       "╞═════════════════════════════════╪═══════════╡\n",
       "│ One of the other reviewers has… ┆ positive  │\n",
       "│ A wonderful little production.… ┆ positive  │\n",
       "│ I thought this was a wonderful… ┆ positive  │\n",
       "│ Basically there's a family whe… ┆ negative  │\n",
       "│ Petter Mattei's \"Love in the T… ┆ positive  │\n",
       "│ Probably my all-time favorite … ┆ positive  │\n",
       "│ I sure would like to see a res… ┆ positive  │\n",
       "│ This show was an amazing, fres… ┆ negative  │\n",
       "│ Encouraged by the positive com… ┆ negative  │\n",
       "│ If you like original gut wrenc… ┆ positive  │\n",
       "└─────────────────────────────────┴───────────┘"
      ]
     },
     "execution_count": 6,
     "metadata": {},
     "output_type": "execute_result"
    }
   ],
   "source": [
    "reviews.head(10)"
   ]
  },
  {
   "cell_type": "code",
   "execution_count": 7,
   "metadata": {},
   "outputs": [
    {
     "data": {
      "text/html": [
       "<div><style>\n",
       ".dataframe > thead > tr,\n",
       ".dataframe > tbody > tr {\n",
       "  text-align: right;\n",
       "  white-space: pre-wrap;\n",
       "}\n",
       "</style>\n",
       "<small>shape: (9, 3)</small><table border=\"1\" class=\"dataframe\"><thead><tr><th>statistic</th><th>review</th><th>sentiment</th></tr><tr><td>str</td><td>str</td><td>str</td></tr></thead><tbody><tr><td>&quot;count&quot;</td><td>&quot;50000&quot;</td><td>&quot;50000&quot;</td></tr><tr><td>&quot;null_count&quot;</td><td>&quot;0&quot;</td><td>&quot;0&quot;</td></tr><tr><td>&quot;mean&quot;</td><td>null</td><td>null</td></tr><tr><td>&quot;std&quot;</td><td>null</td><td>null</td></tr><tr><td>&quot;min&quot;</td><td>&quot;\b\b\b\bA Turkish Bath sequence in…</td><td>&quot;negative&quot;</td></tr><tr><td>&quot;25%&quot;</td><td>null</td><td>null</td></tr><tr><td>&quot;50%&quot;</td><td>null</td><td>null</td></tr><tr><td>&quot;75%&quot;</td><td>null</td><td>null</td></tr><tr><td>&quot;max&quot;</td><td>&quot;ý thýnk uzak ýs the one of the…</td><td>&quot;positive&quot;</td></tr></tbody></table></div>"
      ],
      "text/plain": [
       "shape: (9, 3)\n",
       "┌────────────┬─────────────────────────────────┬───────────┐\n",
       "│ statistic  ┆ review                          ┆ sentiment │\n",
       "│ ---        ┆ ---                             ┆ ---       │\n",
       "│ str        ┆ str                             ┆ str       │\n",
       "╞════════════╪═════════════════════════════════╪═══════════╡\n",
       "│ count      ┆ 50000                           ┆ 50000     │\n",
       "│ null_count ┆ 0                               ┆ 0         │\n",
       "│ mean       ┆ null                            ┆ null      │\n",
       "│ std        ┆ null                            ┆ null      │\n",
       "│ min        ┆ \b\b\b\bA Turkish Bath sequence in… ┆ negative  │\n",
       "│ 25%        ┆ null                            ┆ null      │\n",
       "│ 50%        ┆ null                            ┆ null      │\n",
       "│ 75%        ┆ null                            ┆ null      │\n",
       "│ max        ┆ ý thýnk uzak ýs the one of the… ┆ positive  │\n",
       "└────────────┴─────────────────────────────────┴───────────┘"
      ]
     },
     "execution_count": 7,
     "metadata": {},
     "output_type": "execute_result"
    }
   ],
   "source": [
    "reviews.describe()"
   ]
  },
  {
   "cell_type": "markdown",
   "metadata": {},
   "source": [
    "# Preprocessing"
   ]
  },
  {
   "cell_type": "code",
   "execution_count": 8,
   "metadata": {},
   "outputs": [],
   "source": [
    "# Create a stopword set\n",
    "stopwords = set(nltk.corpus.stopwords.words('english'))\n",
    "stopwords.add(\"im\")"
   ]
  },
  {
   "cell_type": "code",
   "execution_count": 9,
   "metadata": {},
   "outputs": [],
   "source": [
    "# Define a regex function to remove special characters, links, etc.\n",
    "def regex_cleanse(text: str):\n",
    "    # URLS\n",
    "    text = re.sub(r'https\\S+', '', text)\n",
    "\n",
    "    # @<username>\n",
    "    text = re.sub(r'@\\w+', '', text)\n",
    "\n",
    "    # Non-alphabet character\n",
    "    text = re.sub(r'[^a-zA-Z ]', '', text)\n",
    "\n",
    "    # #<word>\n",
    "    text = re.sub(r'#\\w+', '', text)\n",
    "\n",
    "    # One character that doesn't belong to word or whitespace\n",
    "    text = re.sub(r'[^\\w\\s]', '', text)\n",
    "\n",
    "    # Attempt to remove linked pictures URLs\n",
    "    text = re.sub(r'pic\\w+', '', text)\n",
    "    text = \" \".join([word for word in text.split() if word not in stopwords])\n",
    "\n",
    "    return text"
   ]
  },
  {
   "cell_type": "code",
   "execution_count": 10,
   "metadata": {},
   "outputs": [],
   "source": [
    "# Loading language model\n",
    "model = spacy.load('en_core_web_sm')\n",
    "\n",
    "# Lemmatiser\n",
    "def lemma(tokens):\n",
    "    doc = model(tokens)\n",
    "    return [token.lemma_ for token in doc]"
   ]
  },
  {
   "cell_type": "code",
   "execution_count": 11,
   "metadata": {},
   "outputs": [],
   "source": [
    "# Removing emojis\n",
    "def remove_emoji(string):\n",
    "    emoji_pattern = re.compile(\"[\"\n",
    "                           u\"\\U0001F600-\\U0001F64F\"  # emoticons\n",
    "                           u\"\\U0001F300-\\U0001F5FF\"  # symbols & pictographs\n",
    "                           u\"\\U0001F680-\\U0001F6FF\"  # transport & map symbols\n",
    "                           u\"\\U0001F1E0-\\U0001F1FF\"  # flags (iOS)\n",
    "                           u\"\\U00002702-\\U000027B0\"\n",
    "                           u\"\\U000024C2-\\U0001F251\"\n",
    "                           \"]+\", flags=re.UNICODE)\n",
    "    return emoji_pattern.sub(r'', string)"
   ]
  },
  {
   "cell_type": "code",
   "execution_count": 12,
   "metadata": {},
   "outputs": [],
   "source": [
    "# Define a text preprocessing function to apply to all rows\n",
    "def preprocess_text(text: str) -> list[str]:\n",
    "    text = regex_cleanse(text.lower())\n",
    "    text = remove_emoji(text)\n",
    "    text = lemma(text)\n",
    "\n",
    "    return text"
   ]
  },
  {
   "cell_type": "code",
   "execution_count": 13,
   "metadata": {},
   "outputs": [],
   "source": [
    "# Creating a cleaned-preprocessed dataset\n",
    "#cleaned = reviews.with_columns(pl.col('review').map_elements(preprocess_text, return_dtype = list[str]))\n",
    "cleaned = pl.read_ndjson('../data/imdb_clean.json')"
   ]
  },
  {
   "cell_type": "code",
   "execution_count": 14,
   "metadata": {},
   "outputs": [
    {
     "data": {
      "text/html": [
       "<div><style>\n",
       ".dataframe > thead > tr,\n",
       ".dataframe > tbody > tr {\n",
       "  text-align: right;\n",
       "  white-space: pre-wrap;\n",
       "}\n",
       "</style>\n",
       "<small>shape: (5, 2)</small><table border=\"1\" class=\"dataframe\"><thead><tr><th>review</th><th>sentiment</th></tr><tr><td>list[str]</td><td>str</td></tr></thead><tbody><tr><td>[&quot;one&quot;, &quot;reviewer&quot;, … &quot;side&quot;]</td><td>&quot;positive&quot;</td></tr><tr><td>[&quot;wonderful&quot;, &quot;little&quot;, … &quot;do&quot;]</td><td>&quot;positive&quot;</td></tr><tr><td>[&quot;think&quot;, &quot;wonderful&quot;, … &quot;friend&quot;]</td><td>&quot;positive&quot;</td></tr><tr><td>[&quot;basically&quot;, &quot;there&quot;, … &quot;ignore&quot;]</td><td>&quot;negative&quot;</td></tr><tr><td>[&quot;petter&quot;, &quot;matteis&quot;, … &quot;work&quot;]</td><td>&quot;positive&quot;</td></tr></tbody></table></div>"
      ],
      "text/plain": [
       "shape: (5, 2)\n",
       "┌─────────────────────────────────┬───────────┐\n",
       "│ review                          ┆ sentiment │\n",
       "│ ---                             ┆ ---       │\n",
       "│ list[str]                       ┆ str       │\n",
       "╞═════════════════════════════════╪═══════════╡\n",
       "│ [\"one\", \"reviewer\", … \"side\"]   ┆ positive  │\n",
       "│ [\"wonderful\", \"little\", … \"do\"… ┆ positive  │\n",
       "│ [\"think\", \"wonderful\", … \"frie… ┆ positive  │\n",
       "│ [\"basically\", \"there\", … \"igno… ┆ negative  │\n",
       "│ [\"petter\", \"matteis\", … \"work\"… ┆ positive  │\n",
       "└─────────────────────────────────┴───────────┘"
      ]
     },
     "execution_count": 14,
     "metadata": {},
     "output_type": "execute_result"
    }
   ],
   "source": [
    "cleaned.head()"
   ]
  },
  {
   "cell_type": "code",
   "execution_count": 15,
   "metadata": {},
   "outputs": [],
   "source": [
    "cleaned.write_ndjson(file = '../data/imdb_clean.json')"
   ]
  },
  {
   "cell_type": "markdown",
   "metadata": {},
   "source": [
    "# Word Embedding"
   ]
  },
  {
   "cell_type": "code",
   "execution_count": 16,
   "metadata": {},
   "outputs": [
    {
     "data": {
      "text/plain": [
       "['one', 'reviewer', 'mention', 'watch', 'oz']"
      ]
     },
     "execution_count": 16,
     "metadata": {},
     "output_type": "execute_result"
    }
   ],
   "source": [
    "# Creating a series of lists to be parsed into a vector\n",
    "# I will be using a skipgram Word2Vec model\n",
    "embedding_text = cleaned['review'].to_list()\n",
    "\n",
    "embedding_text[0][:5]"
   ]
  },
  {
   "cell_type": "code",
   "execution_count": 17,
   "metadata": {},
   "outputs": [],
   "source": [
    "#w2v_skipgram = Word2Vec(embedding_text, vector_size = 100, sg = 1, workers = 10, window = 32, epochs = 5)"
   ]
  },
  {
   "cell_type": "code",
   "execution_count": 18,
   "metadata": {},
   "outputs": [],
   "source": [
    "# Saving the w2v model for later use\n",
    "#w2v_skipgram.save(\"../wordembed/w2v_sg.model\")\n",
    "\n",
    "w2v_skipgram = Word2Vec.load('../wordembed/w2v_sg.model')"
   ]
  },
  {
   "cell_type": "code",
   "execution_count": 19,
   "metadata": {},
   "outputs": [
    {
     "data": {
      "text/plain": [
       "array([-0.01050346,  0.24950458,  0.05217788, -0.29049224,  0.04847969,\n",
       "        0.03122034,  0.34357744,  0.39543572, -0.15848024, -0.17656553,\n",
       "        0.27617827, -0.06074983,  0.19527179, -0.19398004,  0.24254476,\n",
       "       -0.33821297, -0.04195563, -0.12653409,  0.12984906,  0.06021116,\n",
       "        0.11972744, -0.0044531 ,  0.03778375, -0.4925069 , -0.2229252 ,\n",
       "        0.35034776,  0.17614731, -0.3828557 ,  0.33748838,  0.14423443,\n",
       "        0.47120342, -0.42818165, -0.12849556, -0.14396049,  0.40705243,\n",
       "       -0.09162427,  0.01340964,  0.09601955, -0.07237893,  0.10251185,\n",
       "       -0.21528737, -0.26008555, -0.09586003,  0.0145961 , -0.11169808,\n",
       "       -0.12389541,  0.15784937, -0.2086932 , -0.18732902,  0.2399812 ,\n",
       "        0.10241289, -0.38055202,  0.11384615, -0.07729186, -0.12073651,\n",
       "        0.39402267,  0.2973257 ,  0.2719287 , -0.1140646 ,  0.28911892,\n",
       "       -0.00432293,  0.042277  ,  0.02128095,  0.01653638,  0.09890844,\n",
       "       -0.4481542 ,  0.35383353,  0.24400412, -0.07474237,  0.07067253,\n",
       "        0.06907803, -0.01992093,  0.57406336,  0.41553015,  0.06694716,\n",
       "        0.2649106 , -0.5941547 , -0.17485034,  0.13067481,  0.0805181 ,\n",
       "        0.14542069,  0.08430541, -0.04245416,  0.1336279 ,  0.08530676,\n",
       "        0.06878322, -0.04907935, -0.01706604,  0.22629488,  0.13576907,\n",
       "        0.0717259 ,  0.07198022,  0.26285818, -0.34525988,  0.12805474,\n",
       "        0.25230354,  0.07230596, -0.3176991 , -0.34311843, -0.51351637],\n",
       "      dtype=float32)"
      ]
     },
     "execution_count": 19,
     "metadata": {},
     "output_type": "execute_result"
    }
   ],
   "source": [
    "w2v_skipgram.wv['horror']"
   ]
  },
  {
   "cell_type": "code",
   "execution_count": 20,
   "metadata": {},
   "outputs": [
    {
     "data": {
      "text/plain": [
       "[('scary', 0.795227587223053),\n",
       " ('bhorror', 0.7904592752456665),\n",
       " ('scare', 0.7766833305358887),\n",
       " ('slasher', 0.772209882736206),\n",
       " ('gorebut', 0.770581841468811),\n",
       " ('changele', 0.761751115322113),\n",
       " ('lossessa', 0.760185182094574),\n",
       " ('candyman', 0.7597736716270447),\n",
       " ('flick', 0.7561708092689514),\n",
       " ('amityville', 0.7520821690559387)]"
      ]
     },
     "execution_count": 20,
     "metadata": {},
     "output_type": "execute_result"
    }
   ],
   "source": [
    "w2v_skipgram.wv.most_similar('horror', topn = 10)"
   ]
  },
  {
   "cell_type": "code",
   "execution_count": 21,
   "metadata": {},
   "outputs": [],
   "source": [
    "vocab_size = w2v_skipgram.wv.__len__() + 1"
   ]
  },
  {
   "cell_type": "markdown",
   "metadata": {},
   "source": [
    "# Implementing the RNN Class"
   ]
  },
  {
   "cell_type": "code",
   "execution_count": 22,
   "metadata": {},
   "outputs": [],
   "source": [
    "import torch\n",
    "import torch.nn as nn\n",
    "import torch.optim as optim\n",
    "from torch.utils.data import DataLoader, Dataset\n",
    "\n",
    "from sklearn.model_selection import train_test_split"
   ]
  },
  {
   "cell_type": "code",
   "execution_count": 41,
   "metadata": {},
   "outputs": [],
   "source": [
    "# Define hyper params for later use\n",
    "EMBEDDING_DIM = 100\n",
    "HIDDEN_DIM = 128\n",
    "OUTPUT_DIM = 2\n",
    "EPOCHS = 15\n",
    "BATCH_SIZE = 100\n",
    "LR = 0.001\n",
    "MAX_SEQ_LEN = 40"
   ]
  },
  {
   "cell_type": "code",
   "execution_count": 42,
   "metadata": {},
   "outputs": [
    {
     "data": {
      "text/html": [
       "<div><style>\n",
       ".dataframe > thead > tr,\n",
       ".dataframe > tbody > tr {\n",
       "  text-align: right;\n",
       "  white-space: pre-wrap;\n",
       "}\n",
       "</style>\n",
       "<small>shape: (5, 2)</small><table border=\"1\" class=\"dataframe\"><thead><tr><th>review</th><th>sentiment</th></tr><tr><td>list[str]</td><td>i64</td></tr></thead><tbody><tr><td>[&quot;one&quot;, &quot;reviewer&quot;, … &quot;side&quot;]</td><td>1</td></tr><tr><td>[&quot;wonderful&quot;, &quot;little&quot;, … &quot;do&quot;]</td><td>1</td></tr><tr><td>[&quot;think&quot;, &quot;wonderful&quot;, … &quot;friend&quot;]</td><td>1</td></tr><tr><td>[&quot;basically&quot;, &quot;there&quot;, … &quot;ignore&quot;]</td><td>0</td></tr><tr><td>[&quot;petter&quot;, &quot;matteis&quot;, … &quot;work&quot;]</td><td>1</td></tr></tbody></table></div>"
      ],
      "text/plain": [
       "shape: (5, 2)\n",
       "┌─────────────────────────────────┬───────────┐\n",
       "│ review                          ┆ sentiment │\n",
       "│ ---                             ┆ ---       │\n",
       "│ list[str]                       ┆ i64       │\n",
       "╞═════════════════════════════════╪═══════════╡\n",
       "│ [\"one\", \"reviewer\", … \"side\"]   ┆ 1         │\n",
       "│ [\"wonderful\", \"little\", … \"do\"… ┆ 1         │\n",
       "│ [\"think\", \"wonderful\", … \"frie… ┆ 1         │\n",
       "│ [\"basically\", \"there\", … \"igno… ┆ 0         │\n",
       "│ [\"petter\", \"matteis\", … \"work\"… ┆ 1         │\n",
       "└─────────────────────────────────┴───────────┘"
      ]
     },
     "execution_count": 42,
     "metadata": {},
     "output_type": "execute_result"
    }
   ],
   "source": [
    "def class_to_num(sentiment):\n",
    "    return 1 if sentiment == \"positive\" else 0\n",
    "\n",
    "loadable_data = cleaned.with_columns(\n",
    "    pl.col(\"sentiment\").map_elements(class_to_num, return_dtype = int)\n",
    ")\n",
    "\n",
    "loadable_data.head()"
   ]
  },
  {
   "cell_type": "code",
   "execution_count": 43,
   "metadata": {},
   "outputs": [],
   "source": [
    "def review_to_embedding(review, max_seq_len, embedding_dim):\n",
    "    embeddings = [\n",
    "        w2v_skipgram.wv[word] if word in w2v_skipgram.wv else np.zeros(embedding_dim)\n",
    "        for word in review\n",
    "    ]\n",
    "    embeddings = embeddings[:max_seq_len]  # Truncate\n",
    "    # Pad with zeros if shorter than max_seq_len\n",
    "    if len(embeddings) < max_seq_len:\n",
    "        embeddings += [np.zeros(embedding_dim)] * (max_seq_len - len(embeddings))\n",
    "    return np.array(embeddings, dtype=np.float32)"
   ]
  },
  {
   "cell_type": "code",
   "execution_count": 44,
   "metadata": {},
   "outputs": [],
   "source": [
    "loadable_data = loadable_data.with_columns(\n",
    "    pl.col(\"review\").map_elements(lambda x: review_to_embedding(x, MAX_SEQ_LEN, EMBEDDING_DIM), return_dtype = list[list[float]])\n",
    ")"
   ]
  },
  {
   "cell_type": "code",
   "execution_count": 45,
   "metadata": {},
   "outputs": [],
   "source": [
    "# Should save data here (HORRIBLE IDEA ~5GB)\n",
    "#loadable_data.write_ndjson('../data/imdb_embedded.json')"
   ]
  },
  {
   "cell_type": "code",
   "execution_count": 46,
   "metadata": {},
   "outputs": [
    {
     "data": {
      "text/html": [
       "<div><style>\n",
       ".dataframe > thead > tr,\n",
       ".dataframe > tbody > tr {\n",
       "  text-align: right;\n",
       "  white-space: pre-wrap;\n",
       "}\n",
       "</style>\n",
       "<small>shape: (5, 2)</small><table border=\"1\" class=\"dataframe\"><thead><tr><th>review</th><th>sentiment</th></tr><tr><td>list[list[f64]]</td><td>i64</td></tr></thead><tbody><tr><td>[[0.053646, 0.169129, … -0.117089], [0.059409, 0.257952, … -0.150777], … [0.237985, 0.285544, … 0.107752]]</td><td>1</td></tr><tr><td>[[0.069264, 0.210273, … -0.045096], [-0.046261, 0.047188, … -0.098948], … [0.039598, -0.053692, … -0.114939]]</td><td>1</td></tr><tr><td>[[0.07442, 0.106315, … -0.042415], [0.069264, 0.210273, … -0.045096], … [0.042387, 0.08614, … -0.150596]]</td><td>1</td></tr><tr><td>[[-0.073931, 0.041117, … -0.132843], [-0.067784, -0.000722, … -0.014203], … [-0.013528, 0.08617, … -0.264038]]</td><td>0</td></tr><tr><td>[[0.0, 0.0, … 0.0], [0.185396, 0.459882, … -0.617428], … [0.124108, 0.039394, … -0.057854]]</td><td>1</td></tr></tbody></table></div>"
      ],
      "text/plain": [
       "shape: (5, 2)\n",
       "┌─────────────────────────────────┬───────────┐\n",
       "│ review                          ┆ sentiment │\n",
       "│ ---                             ┆ ---       │\n",
       "│ list[list[f64]]                 ┆ i64       │\n",
       "╞═════════════════════════════════╪═══════════╡\n",
       "│ [[0.053646, 0.169129, … -0.117… ┆ 1         │\n",
       "│ [[0.069264, 0.210273, … -0.045… ┆ 1         │\n",
       "│ [[0.07442, 0.106315, … -0.0424… ┆ 1         │\n",
       "│ [[-0.073931, 0.041117, … -0.13… ┆ 0         │\n",
       "│ [[0.0, 0.0, … 0.0], [0.185396,… ┆ 1         │\n",
       "└─────────────────────────────────┴───────────┘"
      ]
     },
     "execution_count": 46,
     "metadata": {},
     "output_type": "execute_result"
    }
   ],
   "source": [
    "#loadable_data = pl.read_ndjson('../data/imdb_embedded.json')\n",
    "\n",
    "loadable_data.head()"
   ]
  },
  {
   "cell_type": "code",
   "execution_count": 47,
   "metadata": {},
   "outputs": [],
   "source": [
    "X_train, X_test, y_train, y_test = train_test_split(\n",
    "    loadable_data[\"review\"],\n",
    "    loadable_data[\"sentiment\"],\n",
    "    test_size=0.2,\n",
    "    random_state=42\n",
    ")"
   ]
  },
  {
   "cell_type": "code",
   "execution_count": 48,
   "metadata": {},
   "outputs": [],
   "source": [
    "class SentimentDataset(Dataset):\n",
    "    def __init__(self, X, y):\n",
    "        self.X = X\n",
    "        self.y = y\n",
    "\n",
    "    def __len__(self):\n",
    "        return len(self.X)\n",
    "\n",
    "    def __getitem__(self, idx):\n",
    "        return torch.tensor(self.X[idx], dtype=torch.float32), torch.tensor(self.y[idx], dtype=torch.long)"
   ]
  },
  {
   "cell_type": "code",
   "execution_count": 49,
   "metadata": {},
   "outputs": [],
   "source": [
    "train_dataset = SentimentDataset(X_train, y_train)\n",
    "test_dataset = SentimentDataset(X_test, y_test)\n",
    "\n",
    "train_loader = DataLoader(train_dataset, batch_size=BATCH_SIZE, shuffle=True)\n",
    "test_loader = DataLoader(test_dataset, batch_size=BATCH_SIZE, shuffle=False)"
   ]
  },
  {
   "cell_type": "code",
   "execution_count": 50,
   "metadata": {},
   "outputs": [],
   "source": [
    "class SentimentRNN(nn.Module):\n",
    "    def __init__(self, input_size, hidden_dim, output_size, dropout=0.5):\n",
    "        super(SentimentRNN, self).__init__()\n",
    "        self.hidden_dim = hidden_dim\n",
    "        self.rnn = nn.RNN(input_size, hidden_dim, batch_first=True)\n",
    "        self.layer_norm = nn.LayerNorm(hidden_dim)\n",
    "        self.fc = nn.Linear(hidden_dim, output_size)\n",
    "\n",
    "    def forward(self, x):\n",
    "        _, hidden = self.rnn(x)\n",
    "        hidden = self.layer_norm(hidden.squeeze(0))\n",
    "        out = self.fc(hidden)\n",
    "        return out\n"
   ]
  },
  {
   "cell_type": "code",
   "execution_count": 51,
   "metadata": {},
   "outputs": [
    {
     "name": "stdout",
     "output_type": "stream",
     "text": [
      "Using device: cpu\n"
     ]
    }
   ],
   "source": [
    "device = torch.device('cuda' if torch.cuda.is_available() else 'cpu')\n",
    "print(f\"Using device: {device}\")"
   ]
  },
  {
   "cell_type": "code",
   "execution_count": 52,
   "metadata": {},
   "outputs": [],
   "source": [
    "# Initialize model\n",
    "model = SentimentRNN(EMBEDDING_DIM, HIDDEN_DIM, OUTPUT_DIM).to(device)\n",
    "\n",
    "# Loss function and optimizer\n",
    "criterion = nn.CrossEntropyLoss()\n",
    "optimizer = optim.Adam(model.parameters(), lr=LR)"
   ]
  },
  {
   "cell_type": "code",
   "execution_count": 53,
   "metadata": {},
   "outputs": [
    {
     "name": "stdout",
     "output_type": "stream",
     "text": [
      "Epoch 1/15, Train Loss: 0.5281, Test Loss: 0.5191\n",
      "Epoch 2/15, Train Loss: 0.4681, Test Loss: 0.5029\n",
      "Epoch 3/15, Train Loss: 0.4634, Test Loss: 0.4465\n",
      "Epoch 4/15, Train Loss: 0.4679, Test Loss: 0.4521\n",
      "Epoch 5/15, Train Loss: 0.4258, Test Loss: 0.4304\n",
      "Epoch 6/15, Train Loss: 0.4305, Test Loss: 0.4298\n",
      "Epoch 7/15, Train Loss: 0.4192, Test Loss: 0.4131\n",
      "Epoch 8/15, Train Loss: 0.4120, Test Loss: 0.4397\n",
      "Epoch 9/15, Train Loss: 0.4132, Test Loss: 0.4129\n",
      "Epoch 10/15, Train Loss: 0.4101, Test Loss: 0.4240\n",
      "Epoch 11/15, Train Loss: 0.4105, Test Loss: 0.4421\n",
      "Epoch 12/15, Train Loss: 0.4097, Test Loss: 0.4074\n",
      "Epoch 13/15, Train Loss: 0.4126, Test Loss: 0.4269\n",
      "Epoch 14/15, Train Loss: 0.4050, Test Loss: 0.4391\n",
      "Epoch 15/15, Train Loss: 0.4083, Test Loss: 0.4269\n",
      "Training and testing complete!\n"
     ]
    }
   ],
   "source": [
    "# Training loop with testing\n",
    "train_losses = []\n",
    "test_losses = []\n",
    "\n",
    "for epoch in range(EPOCHS):\n",
    "    # Training phase\n",
    "    model.train()\n",
    "    train_loss = 0\n",
    "    for X_batch, y_batch in train_loader:\n",
    "        X_batch, y_batch = X_batch.to(device), y_batch.to(device)\n",
    "        optimizer.zero_grad()\n",
    "        outputs = model(X_batch)\n",
    "        loss = criterion(outputs, y_batch)\n",
    "        loss.backward()\n",
    "        optimizer.step()\n",
    "        train_loss += loss.item()\n",
    "    train_loss /= len(train_loader)\n",
    "    train_losses.append(train_loss)\n",
    "\n",
    "    # Testing phase\n",
    "    model.eval()\n",
    "    test_loss = 0\n",
    "    with torch.no_grad():\n",
    "        for X_batch, y_batch in test_loader:\n",
    "            X_batch, y_batch = X_batch.to(device), y_batch.to(device)\n",
    "            outputs = model(X_batch)\n",
    "            loss = criterion(outputs, y_batch)\n",
    "            test_loss += loss.item()\n",
    "    test_loss /= len(test_loader)\n",
    "    test_losses.append(test_loss)\n",
    "\n",
    "    # Print epoch stats\n",
    "    print(f\"Epoch {epoch + 1}/{EPOCHS}, Train Loss: {train_loss:.4f}, Test Loss: {test_loss:.4f}\")\n",
    "\n",
    "# Save losses for graphing\n",
    "torch.save({\"train\": train_losses, \"test\": test_losses}, \"../model_instances/RNN/losses.pt\")\n",
    "\n",
    "# Save the trained model\n",
    "torch.save(model.state_dict(), \"../model_instances/RNN/sentiment_rnn.pth\")\n",
    "\n",
    "print(\"Training and testing complete!\")\n"
   ]
  },
  {
   "cell_type": "code",
   "execution_count": 54,
   "metadata": {},
   "outputs": [
    {
     "data": {
      "image/png": "[encoded data removed]",
      "text/plain": [
       "<Figure size 1000x600 with 1 Axes>"
      ]
     },
     "metadata": {},
     "output_type": "display_data"
    }
   ],
   "source": [
    "# Plot the losses\n",
    "plt.figure(figsize=(10, 6))\n",
    "plt.plot(range(1, len(train_losses) + 1), train_losses, label=\"Training Loss\")\n",
    "plt.plot(range(1, len(test_losses) + 1), test_losses, label=\"Testing Loss\", linestyle=\"--\")\n",
    "plt.xlabel(\"Epoch\")\n",
    "plt.ylabel(\"Loss\")\n",
    "plt.title(\"Training and Testing Loss Over Epochs\")\n",
    "plt.legend()\n",
    "plt.show()\n"
   ]
  }
 ],
 "metadata": {
  "kernelspec": {
   "display_name": "venv_nlp",
   "language": "python",
   "name": "python3"
  },
  "language_info": {
   "codemirror_mode": {
    "name": "ipython",
    "version": 3
   },
   "file_extension": ".py",
   "mimetype": "text/x-python",
   "name": "python",
   "nbconvert_exporter": "python",
   "pygments_lexer": "ipython3",
   "version": "3.12.2"
  }
 },
 "nbformat": 4,
 "nbformat_minor": 2
}
