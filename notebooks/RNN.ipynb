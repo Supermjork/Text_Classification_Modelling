{
 "cells": [
  {
   "cell_type": "markdown",
   "metadata": {},
   "source": [
    "# RNN Notebook\n",
    "\n",
    "Notebook made for the RNN part of the assignment. Will contain all preprocessing and such, as well as implementation.\n",
    "\n",
    "This is a placeholder cell, code will follow later."
   ]
  },
  {
   "cell_type": "code",
   "execution_count": 1,
   "metadata": {},
   "outputs": [],
   "source": [
    "# Importing libraries to work with\n",
    "import re\n",
    "import os\n",
    "import nltk\n",
    "import spacy\n",
    "import torch\n",
    "import shutil\n",
    "import random\n",
    "import numpy as np\n",
    "import scipy as sci\n",
    "import polars as pl\n",
    "import pandas as pd\n",
    "import gensim as gns\n",
    "import seaborn as sns\n",
    "import matplotlib as mpl\n",
    "import matplotlib.pyplot as plt\n",
    "\n",
    "# For the sake of Preprocessing\n",
    "from nltk.stem import WordNetLemmatizer\n",
    "from nltk.tokenize import word_tokenize\n",
    "\n",
    "# Word Embedding\n",
    "from gensim.models import Word2Vec\n",
    "from gensim.models import KeyedVectors\n",
    "\n",
    "# Sklearn\n",
    "from sklearn.decomposition import PCA"
   ]
  },
  {
   "cell_type": "code",
   "execution_count": 2,
   "metadata": {},
   "outputs": [
    {
     "name": "stdout",
     "output_type": "stream",
     "text": [
      "NumPy Version: 1.26.4\n",
      "Polars Version: 1.16.0\n",
      "MatPlotLib Version: 3.9.3\n",
      "Seaborn Version: 0.13.2\n",
      "PyTorch Version: 2.5.1+cpu\n",
      "NLTK Version: 3.9.1\n",
      "SpaCy Version: 3.8.2\n",
      "Gensim Version: 4.3.3\n",
      "SciPy Version: 1.13.1\n"
     ]
    }
   ],
   "source": [
    "# Display the libraries' versions used in this notebook\n",
    "version_list = {\"NumPy Version:\": np.__version__,\n",
    "                \"Polars Version:\": pl.__version__,\n",
    "                \"MatPlotLib Version:\": mpl.__version__,\n",
    "                \"Seaborn Version:\": sns.__version__,\n",
    "                \"PyTorch Version:\": torch.__version__,\n",
    "                \"NLTK Version:\": nltk.__version__,\n",
    "                \"SpaCy Version:\": spacy.__version__,\n",
    "                \"Gensim Version:\": gns.__version__,\n",
    "                \"SciPy Version:\": sci.__version__}\n",
    "\n",
    "for (k, v) in version_list.items():\n",
    "    print(k, v)"
   ]
  },
  {
   "cell_type": "code",
   "execution_count": 3,
   "metadata": {},
   "outputs": [],
   "source": [
    "# Defining path to install NLTK libraries in\n",
    "NLTK_LIB_PATH = os.path.join(\"..\", \"venv_nlp\", \"Lib\", \"nltk_data\")\n",
    "\n",
    "# Defining download function\n",
    "def download_libs():\n",
    "    libraries = {\n",
    "        \"corpora\\\\stopwords\": \"stopwords\",\n",
    "        \"corpora\\\\wordnet\": \"wordnet\"\n",
    "    }\n",
    "\n",
    "    for resource, package in libraries.items():\n",
    "        try:\n",
    "            nltk.data.find(resource)\n",
    "            print(f\"{package.capitalize()} data exists.\")\n",
    "        except LookupError:\n",
    "            print(f\"Downloading {package}...\")\n",
    "\n",
    "            # Handle potential corrupted files\n",
    "            resource_path = os.path.join(NLTK_LIB_PATH, *resource.split('\\\\'))\n",
    "            if os.path.exists(resource_path):\n",
    "                print(f\"Removing corrupted file: {resource_path}\")\n",
    "                try:\n",
    "                    shutil.rmtree(resource_path) if os.path.isdir(resource_path) else os.remove(resource_path)\n",
    "                except Exception as e:\n",
    "                    print(f\"Error removing corrupted file {resource_path}: {e}\")\n",
    "            # Attempt download again\n",
    "            nltk.download(package, download_dir=NLTK_LIB_PATH)\n",
    "        except Exception as e:\n",
    "            print(f\"Unexpected error checking {package}: {e}\")"
   ]
  },
  {
   "cell_type": "code",
   "execution_count": 4,
   "metadata": {},
   "outputs": [
    {
     "name": "stdout",
     "output_type": "stream",
     "text": [
      "Using NLTK data directory: ..\\venv_nlp\\Lib\\nltk_data\n",
      "Stopwords data exists.\n",
      "Wordnet data exists.\n"
     ]
    }
   ],
   "source": [
    "try:\n",
    "    os.makedirs(NLTK_LIB_PATH, exist_ok=True)\n",
    "    print(f\"Using NLTK data directory: {NLTK_LIB_PATH}\")\n",
    "    download_libs()\n",
    "except PermissionError:\n",
    "    print(f\"Permission denied: Unable to create or write to directory '{NLTK_LIB_PATH}'\")\n",
    "except Exception as e:\n",
    "    print(f\"An unexpected error occurred: {e}\")"
   ]
  },
  {
   "cell_type": "markdown",
   "metadata": {},
   "source": [
    "# Data Loading"
   ]
  },
  {
   "cell_type": "code",
   "execution_count": 5,
   "metadata": {},
   "outputs": [],
   "source": [
    "reviews = pl.read_csv(\"../data/IMDB Dataset.csv\")"
   ]
  },
  {
   "cell_type": "code",
   "execution_count": 6,
   "metadata": {},
   "outputs": [
    {
     "data": {
      "text/html": [
       "<div><style>\n",
       ".dataframe > thead > tr,\n",
       ".dataframe > tbody > tr {\n",
       "  text-align: right;\n",
       "  white-space: pre-wrap;\n",
       "}\n",
       "</style>\n",
       "<small>shape: (10, 2)</small><table border=\"1\" class=\"dataframe\"><thead><tr><th>review</th><th>sentiment</th></tr><tr><td>str</td><td>str</td></tr></thead><tbody><tr><td>&quot;One of the other reviewers has…</td><td>&quot;positive&quot;</td></tr><tr><td>&quot;A wonderful little production.…</td><td>&quot;positive&quot;</td></tr><tr><td>&quot;I thought this was a wonderful…</td><td>&quot;positive&quot;</td></tr><tr><td>&quot;Basically there&#x27;s a family whe…</td><td>&quot;negative&quot;</td></tr><tr><td>&quot;Petter Mattei&#x27;s &quot;Love in the T…</td><td>&quot;positive&quot;</td></tr><tr><td>&quot;Probably my all-time favorite …</td><td>&quot;positive&quot;</td></tr><tr><td>&quot;I sure would like to see a res…</td><td>&quot;positive&quot;</td></tr><tr><td>&quot;This show was an amazing, fres…</td><td>&quot;negative&quot;</td></tr><tr><td>&quot;Encouraged by the positive com…</td><td>&quot;negative&quot;</td></tr><tr><td>&quot;If you like original gut wrenc…</td><td>&quot;positive&quot;</td></tr></tbody></table></div>"
      ],
      "text/plain": [
       "shape: (10, 2)\n",
       "┌─────────────────────────────────┬───────────┐\n",
       "│ review                          ┆ sentiment │\n",
       "│ ---                             ┆ ---       │\n",
       "│ str                             ┆ str       │\n",
       "╞═════════════════════════════════╪═══════════╡\n",
       "│ One of the other reviewers has… ┆ positive  │\n",
       "│ A wonderful little production.… ┆ positive  │\n",
       "│ I thought this was a wonderful… ┆ positive  │\n",
       "│ Basically there's a family whe… ┆ negative  │\n",
       "│ Petter Mattei's \"Love in the T… ┆ positive  │\n",
       "│ Probably my all-time favorite … ┆ positive  │\n",
       "│ I sure would like to see a res… ┆ positive  │\n",
       "│ This show was an amazing, fres… ┆ negative  │\n",
       "│ Encouraged by the positive com… ┆ negative  │\n",
       "│ If you like original gut wrenc… ┆ positive  │\n",
       "└─────────────────────────────────┴───────────┘"
      ]
     },
     "execution_count": 6,
     "metadata": {},
     "output_type": "execute_result"
    }
   ],
   "source": [
    "reviews.head(10)"
   ]
  },
  {
   "cell_type": "code",
   "execution_count": 7,
   "metadata": {},
   "outputs": [
    {
     "data": {
      "text/html": [
       "<div><style>\n",
       ".dataframe > thead > tr,\n",
       ".dataframe > tbody > tr {\n",
       "  text-align: right;\n",
       "  white-space: pre-wrap;\n",
       "}\n",
       "</style>\n",
       "<small>shape: (9, 3)</small><table border=\"1\" class=\"dataframe\"><thead><tr><th>statistic</th><th>review</th><th>sentiment</th></tr><tr><td>str</td><td>str</td><td>str</td></tr></thead><tbody><tr><td>&quot;count&quot;</td><td>&quot;50000&quot;</td><td>&quot;50000&quot;</td></tr><tr><td>&quot;null_count&quot;</td><td>&quot;0&quot;</td><td>&quot;0&quot;</td></tr><tr><td>&quot;mean&quot;</td><td>null</td><td>null</td></tr><tr><td>&quot;std&quot;</td><td>null</td><td>null</td></tr><tr><td>&quot;min&quot;</td><td>&quot;\b\b\b\bA Turkish Bath sequence in…</td><td>&quot;negative&quot;</td></tr><tr><td>&quot;25%&quot;</td><td>null</td><td>null</td></tr><tr><td>&quot;50%&quot;</td><td>null</td><td>null</td></tr><tr><td>&quot;75%&quot;</td><td>null</td><td>null</td></tr><tr><td>&quot;max&quot;</td><td>&quot;ý thýnk uzak ýs the one of the…</td><td>&quot;positive&quot;</td></tr></tbody></table></div>"
      ],
      "text/plain": [
       "shape: (9, 3)\n",
       "┌────────────┬─────────────────────────────────┬───────────┐\n",
       "│ statistic  ┆ review                          ┆ sentiment │\n",
       "│ ---        ┆ ---                             ┆ ---       │\n",
       "│ str        ┆ str                             ┆ str       │\n",
       "╞════════════╪═════════════════════════════════╪═══════════╡\n",
       "│ count      ┆ 50000                           ┆ 50000     │\n",
       "│ null_count ┆ 0                               ┆ 0         │\n",
       "│ mean       ┆ null                            ┆ null      │\n",
       "│ std        ┆ null                            ┆ null      │\n",
       "│ min        ┆ \b\b\b\bA Turkish Bath sequence in… ┆ negative  │\n",
       "│ 25%        ┆ null                            ┆ null      │\n",
       "│ 50%        ┆ null                            ┆ null      │\n",
       "│ 75%        ┆ null                            ┆ null      │\n",
       "│ max        ┆ ý thýnk uzak ýs the one of the… ┆ positive  │\n",
       "└────────────┴─────────────────────────────────┴───────────┘"
      ]
     },
     "execution_count": 7,
     "metadata": {},
     "output_type": "execute_result"
    }
   ],
   "source": [
    "reviews.describe()"
   ]
  },
  {
   "cell_type": "markdown",
   "metadata": {},
   "source": [
    "# Preprocessing"
   ]
  },
  {
   "cell_type": "code",
   "execution_count": 8,
   "metadata": {},
   "outputs": [],
   "source": [
    "# Create a stopword set\n",
    "stopwords = set(nltk.corpus.stopwords.words('english'))\n",
    "stopwords.add(\"im\")"
   ]
  },
  {
   "cell_type": "code",
   "execution_count": 9,
   "metadata": {},
   "outputs": [],
   "source": [
    "# Define a regex function to remove special characters, links, etc.\n",
    "def regex_cleanse(text: str):\n",
    "    # URLS\n",
    "    text = re.sub(r'https\\S+', '', text)\n",
    "\n",
    "    # @<username>\n",
    "    text = re.sub(r'@\\w+', '', text)\n",
    "\n",
    "    # Non-alphabet character\n",
    "    text = re.sub(r'[^a-zA-Z ]', '', text)\n",
    "\n",
    "    # #<word>\n",
    "    text = re.sub(r'#\\w+', '', text)\n",
    "\n",
    "    # One character that doesn't belong to word or whitespace\n",
    "    text = re.sub(r'[^\\w\\s]', '', text)\n",
    "\n",
    "    # Attempt to remove linked pictures URLs\n",
    "    text = re.sub(r'pic\\w+', '', text)\n",
    "    text = \" \".join([word for word in text.split() if word not in stopwords])\n",
    "\n",
    "    return text"
   ]
  },
  {
   "cell_type": "code",
   "execution_count": 10,
   "metadata": {},
   "outputs": [],
   "source": [
    "# Loading language model\n",
    "model_language_spacy = spacy.load('en_core_web_sm')\n",
    "\n",
    "# Lemmatiser\n",
    "def lemma(tokens):\n",
    "    doc = model_language_spacy(tokens)\n",
    "    return [token.lemma_ for token in doc]"
   ]
  },
  {
   "cell_type": "code",
   "execution_count": 11,
   "metadata": {},
   "outputs": [],
   "source": [
    "# Removing emojis\n",
    "def remove_emoji(string):\n",
    "    emoji_pattern = re.compile(\"[\"\n",
    "                           u\"\\U0001F600-\\U0001F64F\"  # emoticons\n",
    "                           u\"\\U0001F300-\\U0001F5FF\"  # symbols & pictographs\n",
    "                           u\"\\U0001F680-\\U0001F6FF\"  # transport & map symbols\n",
    "                           u\"\\U0001F1E0-\\U0001F1FF\"  # flags (iOS)\n",
    "                           u\"\\U00002702-\\U000027B0\"\n",
    "                           u\"\\U000024C2-\\U0001F251\"\n",
    "                           \"]+\", flags=re.UNICODE)\n",
    "    return emoji_pattern.sub(r'', string)"
   ]
  },
  {
   "cell_type": "code",
   "execution_count": 12,
   "metadata": {},
   "outputs": [],
   "source": [
    "# Define a text preprocessing function to apply to all rows\n",
    "def preprocess_text(text: str) -> list[str]:\n",
    "    text = regex_cleanse(text.lower())\n",
    "    text = remove_emoji(text)\n",
    "    text = lemma(text)\n",
    "\n",
    "    return text"
   ]
  },
  {
   "cell_type": "code",
   "execution_count": 13,
   "metadata": {},
   "outputs": [],
   "source": [
    "# Creating a cleaned-preprocessed dataset\n",
    "#cleaned = reviews.with_columns(pl.col('review').map_elements(preprocess_text, return_dtype = list[str]))\n",
    "cleaned = pl.read_ndjson('../data/imdb_clean.json')"
   ]
  },
  {
   "cell_type": "code",
   "execution_count": 14,
   "metadata": {},
   "outputs": [
    {
     "data": {
      "text/html": [
       "<div><style>\n",
       ".dataframe > thead > tr,\n",
       ".dataframe > tbody > tr {\n",
       "  text-align: right;\n",
       "  white-space: pre-wrap;\n",
       "}\n",
       "</style>\n",
       "<small>shape: (5, 2)</small><table border=\"1\" class=\"dataframe\"><thead><tr><th>review</th><th>sentiment</th></tr><tr><td>list[str]</td><td>str</td></tr></thead><tbody><tr><td>[&quot;one&quot;, &quot;reviewer&quot;, … &quot;side&quot;]</td><td>&quot;positive&quot;</td></tr><tr><td>[&quot;wonderful&quot;, &quot;little&quot;, … &quot;do&quot;]</td><td>&quot;positive&quot;</td></tr><tr><td>[&quot;think&quot;, &quot;wonderful&quot;, … &quot;friend&quot;]</td><td>&quot;positive&quot;</td></tr><tr><td>[&quot;basically&quot;, &quot;there&quot;, … &quot;ignore&quot;]</td><td>&quot;negative&quot;</td></tr><tr><td>[&quot;petter&quot;, &quot;matteis&quot;, … &quot;work&quot;]</td><td>&quot;positive&quot;</td></tr></tbody></table></div>"
      ],
      "text/plain": [
       "shape: (5, 2)\n",
       "┌─────────────────────────────────┬───────────┐\n",
       "│ review                          ┆ sentiment │\n",
       "│ ---                             ┆ ---       │\n",
       "│ list[str]                       ┆ str       │\n",
       "╞═════════════════════════════════╪═══════════╡\n",
       "│ [\"one\", \"reviewer\", … \"side\"]   ┆ positive  │\n",
       "│ [\"wonderful\", \"little\", … \"do\"… ┆ positive  │\n",
       "│ [\"think\", \"wonderful\", … \"frie… ┆ positive  │\n",
       "│ [\"basically\", \"there\", … \"igno… ┆ negative  │\n",
       "│ [\"petter\", \"matteis\", … \"work\"… ┆ positive  │\n",
       "└─────────────────────────────────┴───────────┘"
      ]
     },
     "execution_count": 14,
     "metadata": {},
     "output_type": "execute_result"
    }
   ],
   "source": [
    "cleaned.head()"
   ]
  },
  {
   "cell_type": "code",
   "execution_count": 15,
   "metadata": {},
   "outputs": [],
   "source": [
    "cleaned.write_ndjson(file = '../data/imdb_clean.json')"
   ]
  },
  {
   "cell_type": "markdown",
   "metadata": {},
   "source": [
    "# Word Embedding"
   ]
  },
  {
   "cell_type": "code",
   "execution_count": 16,
   "metadata": {},
   "outputs": [
    {
     "data": {
      "text/plain": [
       "['one', 'reviewer', 'mention', 'watch', 'oz']"
      ]
     },
     "execution_count": 16,
     "metadata": {},
     "output_type": "execute_result"
    }
   ],
   "source": [
    "# Creating a series of lists to be parsed into a vector\n",
    "# I will be using a skipgram Word2Vec model\n",
    "embedding_text = cleaned['review'].to_list()\n",
    "\n",
    "embedding_text[0][:5]"
   ]
  },
  {
   "cell_type": "code",
   "execution_count": 17,
   "metadata": {},
   "outputs": [],
   "source": [
    "#w2v_skipgram = Word2Vec(embedding_text, vector_size = 100, sg = 1, workers = 10, window = 32, epochs = 5)"
   ]
  },
  {
   "cell_type": "code",
   "execution_count": 18,
   "metadata": {},
   "outputs": [],
   "source": [
    "# Saving the w2v model for later use\n",
    "#w2v_skipgram.save(\"../wordembed/w2v_sg.model\")\n",
    "\n",
    "w2v_skipgram = Word2Vec.load('../wordembed/w2v_sg.model')"
   ]
  },
  {
   "cell_type": "code",
   "execution_count": 19,
   "metadata": {},
   "outputs": [
    {
     "data": {
      "text/plain": [
       "array([-0.01050346,  0.24950458,  0.05217788, -0.29049224,  0.04847969,\n",
       "        0.03122034,  0.34357744,  0.39543572, -0.15848024, -0.17656553,\n",
       "        0.27617827, -0.06074983,  0.19527179, -0.19398004,  0.24254476,\n",
       "       -0.33821297, -0.04195563, -0.12653409,  0.12984906,  0.06021116,\n",
       "        0.11972744, -0.0044531 ,  0.03778375, -0.4925069 , -0.2229252 ,\n",
       "        0.35034776,  0.17614731, -0.3828557 ,  0.33748838,  0.14423443,\n",
       "        0.47120342, -0.42818165, -0.12849556, -0.14396049,  0.40705243,\n",
       "       -0.09162427,  0.01340964,  0.09601955, -0.07237893,  0.10251185,\n",
       "       -0.21528737, -0.26008555, -0.09586003,  0.0145961 , -0.11169808,\n",
       "       -0.12389541,  0.15784937, -0.2086932 , -0.18732902,  0.2399812 ,\n",
       "        0.10241289, -0.38055202,  0.11384615, -0.07729186, -0.12073651,\n",
       "        0.39402267,  0.2973257 ,  0.2719287 , -0.1140646 ,  0.28911892,\n",
       "       -0.00432293,  0.042277  ,  0.02128095,  0.01653638,  0.09890844,\n",
       "       -0.4481542 ,  0.35383353,  0.24400412, -0.07474237,  0.07067253,\n",
       "        0.06907803, -0.01992093,  0.57406336,  0.41553015,  0.06694716,\n",
       "        0.2649106 , -0.5941547 , -0.17485034,  0.13067481,  0.0805181 ,\n",
       "        0.14542069,  0.08430541, -0.04245416,  0.1336279 ,  0.08530676,\n",
       "        0.06878322, -0.04907935, -0.01706604,  0.22629488,  0.13576907,\n",
       "        0.0717259 ,  0.07198022,  0.26285818, -0.34525988,  0.12805474,\n",
       "        0.25230354,  0.07230596, -0.3176991 , -0.34311843, -0.51351637],\n",
       "      dtype=float32)"
      ]
     },
     "execution_count": 19,
     "metadata": {},
     "output_type": "execute_result"
    }
   ],
   "source": [
    "w2v_skipgram.wv['horror']"
   ]
  },
  {
   "cell_type": "code",
   "execution_count": 20,
   "metadata": {},
   "outputs": [
    {
     "data": {
      "text/plain": [
       "[('scary', 0.795227587223053),\n",
       " ('bhorror', 0.7904592752456665),\n",
       " ('scare', 0.7766833305358887),\n",
       " ('slasher', 0.772209882736206),\n",
       " ('gorebut', 0.770581841468811),\n",
       " ('changele', 0.761751115322113),\n",
       " ('lossessa', 0.760185182094574),\n",
       " ('candyman', 0.7597736716270447),\n",
       " ('flick', 0.7561708092689514),\n",
       " ('amityville', 0.7520821690559387)]"
      ]
     },
     "execution_count": 20,
     "metadata": {},
     "output_type": "execute_result"
    }
   ],
   "source": [
    "w2v_skipgram.wv.most_similar('horror', topn = 10)"
   ]
  },
  {
   "cell_type": "code",
   "execution_count": 21,
   "metadata": {},
   "outputs": [],
   "source": [
    "vocab_size = w2v_skipgram.wv.__len__() + 1"
   ]
  },
  {
   "cell_type": "markdown",
   "metadata": {},
   "source": [
    "# Implementing the RNN Class"
   ]
  },
  {
   "cell_type": "code",
   "execution_count": 22,
   "metadata": {},
   "outputs": [],
   "source": [
    "import torch\n",
    "import torch.nn as nn\n",
    "import torch.optim as optim\n",
    "from torch.utils.data import DataLoader, Dataset\n",
    "\n",
    "from sklearn.model_selection import train_test_split"
   ]
  },
  {
   "cell_type": "code",
   "execution_count": 23,
   "metadata": {},
   "outputs": [],
   "source": [
    "# Define hyper params for later use\n",
    "EMBEDDING_DIM = 100\n",
    "HIDDEN_DIM = 128\n",
    "OUTPUT_DIM = 2\n",
    "EPOCHS = 15\n",
    "BATCH_SIZE = 100\n",
    "LR = 0.001\n",
    "MAX_SEQ_LEN = 40"
   ]
  },
  {
   "cell_type": "code",
   "execution_count": 24,
   "metadata": {},
   "outputs": [
    {
     "data": {
      "text/html": [
       "<div><style>\n",
       ".dataframe > thead > tr,\n",
       ".dataframe > tbody > tr {\n",
       "  text-align: right;\n",
       "  white-space: pre-wrap;\n",
       "}\n",
       "</style>\n",
       "<small>shape: (5, 2)</small><table border=\"1\" class=\"dataframe\"><thead><tr><th>review</th><th>sentiment</th></tr><tr><td>list[str]</td><td>i64</td></tr></thead><tbody><tr><td>[&quot;one&quot;, &quot;reviewer&quot;, … &quot;side&quot;]</td><td>1</td></tr><tr><td>[&quot;wonderful&quot;, &quot;little&quot;, … &quot;do&quot;]</td><td>1</td></tr><tr><td>[&quot;think&quot;, &quot;wonderful&quot;, … &quot;friend&quot;]</td><td>1</td></tr><tr><td>[&quot;basically&quot;, &quot;there&quot;, … &quot;ignore&quot;]</td><td>0</td></tr><tr><td>[&quot;petter&quot;, &quot;matteis&quot;, … &quot;work&quot;]</td><td>1</td></tr></tbody></table></div>"
      ],
      "text/plain": [
       "shape: (5, 2)\n",
       "┌─────────────────────────────────┬───────────┐\n",
       "│ review                          ┆ sentiment │\n",
       "│ ---                             ┆ ---       │\n",
       "│ list[str]                       ┆ i64       │\n",
       "╞═════════════════════════════════╪═══════════╡\n",
       "│ [\"one\", \"reviewer\", … \"side\"]   ┆ 1         │\n",
       "│ [\"wonderful\", \"little\", … \"do\"… ┆ 1         │\n",
       "│ [\"think\", \"wonderful\", … \"frie… ┆ 1         │\n",
       "│ [\"basically\", \"there\", … \"igno… ┆ 0         │\n",
       "│ [\"petter\", \"matteis\", … \"work\"… ┆ 1         │\n",
       "└─────────────────────────────────┴───────────┘"
      ]
     },
     "execution_count": 24,
     "metadata": {},
     "output_type": "execute_result"
    }
   ],
   "source": [
    "def class_to_num(sentiment):\n",
    "    return 1 if sentiment == \"positive\" else 0\n",
    "\n",
    "loadable_data = cleaned.with_columns(\n",
    "    pl.col(\"sentiment\").map_elements(class_to_num, return_dtype = int)\n",
    ")\n",
    "\n",
    "loadable_data.head()"
   ]
  },
  {
   "cell_type": "code",
   "execution_count": 25,
   "metadata": {},
   "outputs": [],
   "source": [
    "def review_to_embedding(review, max_seq_len, embedding_dim):\n",
    "    embeddings = [\n",
    "        w2v_skipgram.wv[word] if word in w2v_skipgram.wv else np.zeros(embedding_dim)\n",
    "        for word in review\n",
    "    ]\n",
    "    embeddings = embeddings[:max_seq_len]  # Truncate\n",
    "    # Pad with zeros if shorter than max_seq_len\n",
    "    if len(embeddings) < max_seq_len:\n",
    "        embeddings += [np.zeros(embedding_dim)] * (max_seq_len - len(embeddings))\n",
    "    return np.array(embeddings, dtype=np.float32)"
   ]
  },
  {
   "cell_type": "code",
   "execution_count": 26,
   "metadata": {},
   "outputs": [],
   "source": [
    "loadable_data = loadable_data.with_columns(\n",
    "    pl.col(\"review\").map_elements(lambda x: review_to_embedding(x, MAX_SEQ_LEN, EMBEDDING_DIM), return_dtype = list[list[float]])\n",
    ")"
   ]
  },
  {
   "cell_type": "code",
   "execution_count": 27,
   "metadata": {},
   "outputs": [],
   "source": [
    "# Should save data here (HORRIBLE IDEA ~5GB)\n",
    "#loadable_data.write_ndjson('../data/imdb_embedded.json')"
   ]
  },
  {
   "cell_type": "code",
   "execution_count": 28,
   "metadata": {},
   "outputs": [
    {
     "data": {
      "text/html": [
       "<div><style>\n",
       ".dataframe > thead > tr,\n",
       ".dataframe > tbody > tr {\n",
       "  text-align: right;\n",
       "  white-space: pre-wrap;\n",
       "}\n",
       "</style>\n",
       "<small>shape: (5, 2)</small><table border=\"1\" class=\"dataframe\"><thead><tr><th>review</th><th>sentiment</th></tr><tr><td>list[list[f64]]</td><td>i64</td></tr></thead><tbody><tr><td>[[0.053646, 0.169129, … -0.117089], [0.059409, 0.257952, … -0.150777], … [0.237985, 0.285544, … 0.107752]]</td><td>1</td></tr><tr><td>[[0.069264, 0.210273, … -0.045096], [-0.046261, 0.047188, … -0.098948], … [0.039598, -0.053692, … -0.114939]]</td><td>1</td></tr><tr><td>[[0.07442, 0.106315, … -0.042415], [0.069264, 0.210273, … -0.045096], … [0.042387, 0.08614, … -0.150596]]</td><td>1</td></tr><tr><td>[[-0.073931, 0.041117, … -0.132843], [-0.067784, -0.000722, … -0.014203], … [-0.013528, 0.08617, … -0.264038]]</td><td>0</td></tr><tr><td>[[0.0, 0.0, … 0.0], [0.185396, 0.459882, … -0.617428], … [0.124108, 0.039394, … -0.057854]]</td><td>1</td></tr></tbody></table></div>"
      ],
      "text/plain": [
       "shape: (5, 2)\n",
       "┌─────────────────────────────────┬───────────┐\n",
       "│ review                          ┆ sentiment │\n",
       "│ ---                             ┆ ---       │\n",
       "│ list[list[f64]]                 ┆ i64       │\n",
       "╞═════════════════════════════════╪═══════════╡\n",
       "│ [[0.053646, 0.169129, … -0.117… ┆ 1         │\n",
       "│ [[0.069264, 0.210273, … -0.045… ┆ 1         │\n",
       "│ [[0.07442, 0.106315, … -0.0424… ┆ 1         │\n",
       "│ [[-0.073931, 0.041117, … -0.13… ┆ 0         │\n",
       "│ [[0.0, 0.0, … 0.0], [0.185396,… ┆ 1         │\n",
       "└─────────────────────────────────┴───────────┘"
      ]
     },
     "execution_count": 28,
     "metadata": {},
     "output_type": "execute_result"
    }
   ],
   "source": [
    "#loadable_data = pl.read_ndjson('../data/imdb_embedded.json')\n",
    "\n",
    "loadable_data.head()"
   ]
  },
  {
   "cell_type": "code",
   "execution_count": 29,
   "metadata": {},
   "outputs": [],
   "source": [
    "X_train, X_test, y_train, y_test = train_test_split(\n",
    "    loadable_data[\"review\"],\n",
    "    loadable_data[\"sentiment\"],\n",
    "    test_size=0.2,\n",
    "    random_state=42\n",
    ")"
   ]
  },
  {
   "cell_type": "code",
   "execution_count": 30,
   "metadata": {},
   "outputs": [],
   "source": [
    "class SentimentDataset(Dataset):\n",
    "    def __init__(self, X, y):\n",
    "        self.X = X\n",
    "        self.y = y\n",
    "\n",
    "    def __len__(self):\n",
    "        return len(self.X)\n",
    "\n",
    "    def __getitem__(self, idx):\n",
    "        return torch.tensor(self.X[idx], dtype=torch.float32), torch.tensor(self.y[idx], dtype=torch.long)"
   ]
  },
  {
   "cell_type": "code",
   "execution_count": 31,
   "metadata": {},
   "outputs": [],
   "source": [
    "train_dataset = SentimentDataset(X_train, y_train)\n",
    "test_dataset = SentimentDataset(X_test, y_test)\n",
    "\n",
    "train_loader = DataLoader(train_dataset, batch_size=BATCH_SIZE, shuffle=True)\n",
    "test_loader = DataLoader(test_dataset, batch_size=BATCH_SIZE, shuffle=False)"
   ]
  },
  {
   "cell_type": "code",
   "execution_count": 32,
   "metadata": {},
   "outputs": [],
   "source": [
    "class SentimentRNN(nn.Module):\n",
    "    def __init__(self, input_size, hidden_dim, output_size, dropout=0.5):\n",
    "        super(SentimentRNN, self).__init__()\n",
    "        self.hidden_dim = hidden_dim\n",
    "        self.rnn = nn.RNN(input_size, hidden_dim, batch_first=True)\n",
    "        self.layer_norm = nn.LayerNorm(hidden_dim)\n",
    "        self.fc = nn.Linear(hidden_dim, output_size)\n",
    "\n",
    "    def forward(self, x):\n",
    "        _, hidden = self.rnn(x)\n",
    "        hidden = self.layer_norm(hidden.squeeze(0))\n",
    "        out = self.fc(hidden)\n",
    "        return out\n"
   ]
  },
  {
   "cell_type": "code",
   "execution_count": 33,
   "metadata": {},
   "outputs": [
    {
     "name": "stdout",
     "output_type": "stream",
     "text": [
      "Using device: cpu\n"
     ]
    }
   ],
   "source": [
    "device = torch.device('cuda' if torch.cuda.is_available() else 'cpu')\n",
    "print(f\"Using device: {device}\")"
   ]
  },
  {
   "cell_type": "code",
   "execution_count": 34,
   "metadata": {},
   "outputs": [],
   "source": [
    "# Initialize model\n",
    "rnn_model_sentiment = SentimentRNN(EMBEDDING_DIM, HIDDEN_DIM, OUTPUT_DIM).to(device)\n",
    "\n",
    "# Loss function and optimizer\n",
    "criterion = nn.CrossEntropyLoss()\n",
    "optimizer = optim.Adam(rnn_model_sentiment.parameters(), lr=LR)"
   ]
  },
  {
   "cell_type": "code",
   "execution_count": 35,
   "metadata": {},
   "outputs": [
    {
     "name": "stdout",
     "output_type": "stream",
     "text": [
      "Epoch 1/15, Train Loss: 0.5095, Test Loss: 0.4971\n",
      "Epoch 2/15, Train Loss: 0.4677, Test Loss: 0.4507\n",
      "Epoch 3/15, Train Loss: 0.4644, Test Loss: 0.4656\n",
      "Epoch 4/15, Train Loss: 0.4404, Test Loss: 0.4435\n",
      "Epoch 5/15, Train Loss: 0.4267, Test Loss: 0.4353\n",
      "Epoch 6/15, Train Loss: 0.4163, Test Loss: 0.4677\n",
      "Epoch 7/15, Train Loss: 0.4197, Test Loss: 0.4335\n",
      "Epoch 8/15, Train Loss: 0.4165, Test Loss: 0.4199\n",
      "Epoch 9/15, Train Loss: 0.4155, Test Loss: 0.4107\n",
      "Epoch 10/15, Train Loss: 0.4167, Test Loss: 0.4124\n",
      "Epoch 11/15, Train Loss: 0.4100, Test Loss: 0.4163\n",
      "Epoch 12/15, Train Loss: 0.4091, Test Loss: 0.4489\n",
      "Epoch 13/15, Train Loss: 0.4082, Test Loss: 0.4064\n",
      "Epoch 14/15, Train Loss: 0.4066, Test Loss: 0.4071\n",
      "Epoch 15/15, Train Loss: 0.4071, Test Loss: 0.4164\n",
      "Training and testing complete!\n"
     ]
    }
   ],
   "source": [
    "# Training loop with testing\n",
    "train_losses = []\n",
    "test_losses = []\n",
    "\n",
    "for epoch in range(EPOCHS):\n",
    "    # Training phase\n",
    "    rnn_model_sentiment.train()\n",
    "    train_loss = 0\n",
    "    for X_batch, y_batch in train_loader:\n",
    "        X_batch, y_batch = X_batch.to(device), y_batch.to(device)\n",
    "        optimizer.zero_grad()\n",
    "        outputs = rnn_model_sentiment(X_batch)\n",
    "        loss = criterion(outputs, y_batch)\n",
    "        loss.backward()\n",
    "        optimizer.step()\n",
    "        train_loss += loss.item()\n",
    "    train_loss /= len(train_loader)\n",
    "    train_losses.append(train_loss)\n",
    "\n",
    "    # Testing phase\n",
    "    rnn_model_sentiment.eval()\n",
    "    test_loss = 0\n",
    "    with torch.no_grad():\n",
    "        for X_batch, y_batch in test_loader:\n",
    "            X_batch, y_batch = X_batch.to(device), y_batch.to(device)\n",
    "            outputs = rnn_model_sentiment(X_batch)\n",
    "            loss = criterion(outputs, y_batch)\n",
    "            test_loss += loss.item()\n",
    "    test_loss /= len(test_loader)\n",
    "    test_losses.append(test_loss)\n",
    "\n",
    "    # Print epoch stats\n",
    "    print(f\"Epoch {epoch + 1}/{EPOCHS}, Train Loss: {train_loss:.4f}, Test Loss: {test_loss:.4f}\")\n",
    "\n",
    "# Save losses for graphing\n",
    "torch.save({\"train\": train_losses, \"test\": test_losses}, \"../model_instances/RNN/losses.pt\")\n",
    "\n",
    "# Save the trained model\n",
    "torch.save(rnn_model_sentiment.state_dict(), \"../model_instances/RNN/sentiment_rnn.pth\")\n",
    "\n",
    "print(\"Training and testing complete!\")\n"
   ]
  },
  {
   "cell_type": "code",
   "execution_count": 36,
   "metadata": {},
   "outputs": [
    {
     "data": {
      "image/png": "[encoded data removed]",
      "text/plain": [
       "<Figure size 1000x600 with 1 Axes>"
      ]
     },
     "metadata": {},
     "output_type": "display_data"
    }
   ],
   "source": [
    "# Plot the losses\n",
    "plt.figure(figsize=(10, 6))\n",
    "plt.plot(range(1, len(train_losses) + 1), train_losses, label=\"Training Loss\")\n",
    "plt.plot(range(1, len(test_losses) + 1), test_losses, label=\"Testing Loss\", linestyle=\"--\")\n",
    "plt.xlabel(\"Epoch\")\n",
    "plt.ylabel(\"Loss\")\n",
    "plt.title(\"Training and Testing Loss Over Epochs\")\n",
    "plt.legend()\n",
    "plt.show()\n"
   ]
  },
  {
   "cell_type": "markdown",
   "metadata": {},
   "source": [
    "# Text Summarisation Task"
   ]
  },
  {
   "cell_type": "code",
   "execution_count": 140,
   "metadata": {},
   "outputs": [
    {
     "name": "stdout",
     "output_type": "stream",
     "text": [
      "shape: (5, 3)\n",
      "┌────────────────────────────────┬────────────────────────────────┬────────────────────────────────┐\n",
      "│ url                            ┆ article                        ┆ highlights                     │\n",
      "│ ---                            ┆ ---                            ┆ ---                            │\n",
      "│ str                            ┆ str                            ┆ str                            │\n",
      "╞════════════════════════════════╪════════════════════════════════╪════════════════════════════════╡\n",
      "│ https://www.dailymail.co.uk/tv ┆ Beyoncé showcases her          ┆ Beyoncé has shown off her      │\n",
      "│ …                              ┆ incredib…                      ┆ flaw…                          │\n",
      "│ https://www.dailymail.co.uk/tv ┆ Radio 1 listeners in shock as  ┆ BBC Radio 1 listeners were     │\n",
      "│ …                              ┆ …                              ┆ lef…                           │\n",
      "│ https://www.dailymail.co.uk/tv ┆ TOWIE's Dan Edgar, 33, and     ┆ Dan Edgar and Ella Rae Wise    │\n",
      "│ …                              ┆ Ell…                           ┆ pu…                            │\n",
      "│ https://www.dailymail.co.uk/tv ┆ Bradley Cooper recalls         ┆ Bradley Cooper discussed the   │\n",
      "│ …                              ┆ 'crazy'…                       ┆ '…                             │\n",
      "│ https://www.dailymail.co.uk/tv ┆ Margaret Qualley and Beanie    ┆ Margaret Qualley and Beanie    │\n",
      "│ …                              ┆ Fe…                            ┆ Fe…                            │\n",
      "└────────────────────────────────┴────────────────────────────────┴────────────────────────────────┘\n"
     ]
    }
   ],
   "source": [
    "data_path = '../data/news/article_highlights.csv'\n",
    "data = pl.read_csv(data_path)\n",
    "data = data.drop_nulls()\n",
    "print(data.head())"
   ]
  },
  {
   "cell_type": "code",
   "execution_count": 141,
   "metadata": {},
   "outputs": [],
   "source": [
    "data = data.drop(data.columns[0])\n",
    "data = data.rename({data.columns[0]: \"text\", data.columns[1]: \"headline\"})"
   ]
  },
  {
   "cell_type": "code",
   "execution_count": 142,
   "metadata": {},
   "outputs": [
    {
     "data": {
      "text/html": [
       "<div><style>\n",
       ".dataframe > thead > tr,\n",
       ".dataframe > tbody > tr {\n",
       "  text-align: right;\n",
       "  white-space: pre-wrap;\n",
       "}\n",
       "</style>\n",
       "<small>shape: (5, 2)</small><table border=\"1\" class=\"dataframe\"><thead><tr><th>text</th><th>headline</th></tr><tr><td>str</td><td>str</td></tr></thead><tbody><tr><td>&quot;Beyoncé showcases her incredib…</td><td>&quot;Beyoncé has shown off her flaw…</td></tr><tr><td>&quot;Radio 1 listeners in shock as …</td><td>&quot;BBC Radio 1 listeners were lef…</td></tr><tr><td>&quot;TOWIE&#x27;s Dan Edgar, 33, and Ell…</td><td>&quot;Dan Edgar and Ella Rae Wise pu…</td></tr><tr><td>&quot;Bradley Cooper recalls &#x27;crazy&#x27;…</td><td>&quot;Bradley Cooper discussed the &#x27;…</td></tr><tr><td>&quot;Margaret Qualley and Beanie Fe…</td><td>&quot;Margaret Qualley and Beanie Fe…</td></tr></tbody></table></div>"
      ],
      "text/plain": [
       "shape: (5, 2)\n",
       "┌─────────────────────────────────┬─────────────────────────────────┐\n",
       "│ text                            ┆ headline                        │\n",
       "│ ---                             ┆ ---                             │\n",
       "│ str                             ┆ str                             │\n",
       "╞═════════════════════════════════╪═════════════════════════════════╡\n",
       "│ Beyoncé showcases her incredib… ┆ Beyoncé has shown off her flaw… │\n",
       "│ Radio 1 listeners in shock as … ┆ BBC Radio 1 listeners were lef… │\n",
       "│ TOWIE's Dan Edgar, 33, and Ell… ┆ Dan Edgar and Ella Rae Wise pu… │\n",
       "│ Bradley Cooper recalls 'crazy'… ┆ Bradley Cooper discussed the '… │\n",
       "│ Margaret Qualley and Beanie Fe… ┆ Margaret Qualley and Beanie Fe… │\n",
       "└─────────────────────────────────┴─────────────────────────────────┘"
      ]
     },
     "execution_count": 142,
     "metadata": {},
     "output_type": "execute_result"
    }
   ],
   "source": [
    "data.head()"
   ]
  },
  {
   "cell_type": "code",
   "execution_count": 143,
   "metadata": {},
   "outputs": [
    {
     "data": {
      "text/html": [
       "<div><style>\n",
       ".dataframe > thead > tr,\n",
       ".dataframe > tbody > tr {\n",
       "  text-align: right;\n",
       "  white-space: pre-wrap;\n",
       "}\n",
       "</style>\n",
       "<small>shape: (5, 2)</small><table border=\"1\" class=\"dataframe\"><thead><tr><th>text</th><th>headline</th></tr><tr><td>list[str]</td><td>str</td></tr></thead><tbody><tr><td>[&quot;beyonc&quot;, &quot;showcase&quot;, … &quot;range&quot;]</td><td>&quot;Beyoncé has shown off her flaw…</td></tr><tr><td>[&quot;radio&quot;, &quot;listener&quot;, … &quot;airwave&quot;]</td><td>&quot;BBC Radio 1 listeners were lef…</td></tr><tr><td>[&quot;towie&quot;, &quot;dan&quot;, … &quot;series&quot;]</td><td>&quot;Dan Edgar and Ella Rae Wise pu…</td></tr><tr><td>[&quot;bradley&quot;, &quot;cooper&quot;, … &quot;role&quot;]</td><td>&quot;Bradley Cooper discussed the &#x27;…</td></tr><tr><td>[&quot;margaret&quot;, &quot;qualley&quot;, … &quot;doll&quot;]</td><td>&quot;Margaret Qualley and Beanie Fe…</td></tr></tbody></table></div>"
      ],
      "text/plain": [
       "shape: (5, 2)\n",
       "┌─────────────────────────────────┬─────────────────────────────────┐\n",
       "│ text                            ┆ headline                        │\n",
       "│ ---                             ┆ ---                             │\n",
       "│ list[str]                       ┆ str                             │\n",
       "╞═════════════════════════════════╪═════════════════════════════════╡\n",
       "│ [\"beyonc\", \"showcase\", … \"rang… ┆ Beyoncé has shown off her flaw… │\n",
       "│ [\"radio\", \"listener\", … \"airwa… ┆ BBC Radio 1 listeners were lef… │\n",
       "│ [\"towie\", \"dan\", … \"series\"]    ┆ Dan Edgar and Ella Rae Wise pu… │\n",
       "│ [\"bradley\", \"cooper\", … \"role\"… ┆ Bradley Cooper discussed the '… │\n",
       "│ [\"margaret\", \"qualley\", … \"dol… ┆ Margaret Qualley and Beanie Fe… │\n",
       "└─────────────────────────────────┴─────────────────────────────────┘"
      ]
     },
     "execution_count": 143,
     "metadata": {},
     "output_type": "execute_result"
    }
   ],
   "source": [
    "data_processed = data.with_columns(\n",
    "    pl.col('text').map_elements(preprocess_text, return_dtype = list[str]))\n",
    "\n",
    "data_processed.head()"
   ]
  },
  {
   "cell_type": "code",
   "execution_count": 144,
   "metadata": {},
   "outputs": [],
   "source": [
    "w2v_summarise_text = Word2Vec(data_processed['text'].to_list(), vector_size = 100, sg = 1, workers = 10, window = 32, epochs = 5)\n",
    "w2v_summarise_headline = Word2Vec(data_processed['headline'].to_list(), vector_size = 100, sg = 1, workers = 10, window = 32, epochs = 5)"
   ]
  },
  {
   "cell_type": "code",
   "execution_count": 145,
   "metadata": {},
   "outputs": [],
   "source": [
    "def txt_head_to_embedding(review, max_seq_len, embedding_dim, model):\n",
    "    embeddings = [\n",
    "        model.wv[word] if word in model.wv else np.zeros(embedding_dim)\n",
    "        for word in review\n",
    "    ]\n",
    "    embeddings = embeddings[:max_seq_len]  # Truncate\n",
    "    # Pad with zeros if shorter than max_seq_len\n",
    "    if len(embeddings) < max_seq_len:\n",
    "        embeddings += [np.zeros(embedding_dim)] * (max_seq_len - len(embeddings))\n",
    "    return np.array(embeddings, dtype=np.float32)"
   ]
  },
  {
   "cell_type": "code",
   "execution_count": 146,
   "metadata": {},
   "outputs": [],
   "source": [
    "# Model parameters\n",
    "input_size = 100  # Word2Vec vector size\n",
    "hidden_size = 128\n",
    "output_size = 100  # Word2Vec vector size\n",
    "max_seq_len = 32\n",
    "epochs = 10\n",
    "batch_size = 32\n",
    "learning_rate = 0.001"
   ]
  },
  {
   "cell_type": "code",
   "execution_count": 147,
   "metadata": {},
   "outputs": [],
   "source": [
    "data_embeded = data_processed.with_columns(\n",
    "    pl.col(\"text\").map_elements(lambda x: txt_head_to_embedding(x, 32, 100, w2v_summarise_text), return_dtype=list[list[float]]),\n",
    "    pl.col(\"headline\").map_elements(lambda x: txt_head_to_embedding(x, 32, 100, w2v_summarise_headline), return_dtype=list[list[float]])\n",
    ")"
   ]
  },
  {
   "cell_type": "code",
   "execution_count": 148,
   "metadata": {},
   "outputs": [
    {
     "name": "stdout",
     "output_type": "stream",
     "text": [
      "shape: (5, 2)\n",
      "┌─────────────────────────────────┬─────────────────────────────────┐\n",
      "│ text                            ┆ headline                        │\n",
      "│ ---                             ┆ ---                             │\n",
      "│ list[list[f64]]                 ┆ list[list[f64]]                 │\n",
      "╞═════════════════════════════════╪═════════════════════════════════╡\n",
      "│ [[-0.114609, -0.146333, … 0.40… ┆ [[-0.114707, -0.197579, … -0.0… │\n",
      "│ [[-0.637115, -0.18626, … 0.045… ┆ [[-0.114707, -0.197579, … -0.0… │\n",
      "│ [[-0.307714, 0.521526, … 0.050… ┆ [[0.041785, 0.034237, … -0.068… │\n",
      "│ [[-0.225032, -0.099123, … 0.04… ┆ [[-0.114707, -0.197579, … -0.0… │\n",
      "│ [[-0.449703, -0.009097, … -0.0… ┆ [[0.090821, 0.211195, … -0.156… │\n",
      "└─────────────────────────────────┴─────────────────────────────────┘\n"
     ]
    }
   ],
   "source": [
    "print(data_embeded.head())"
   ]
  },
  {
   "cell_type": "code",
   "execution_count": 149,
   "metadata": {},
   "outputs": [],
   "source": [
    "train_data_x, test_data_x, train_data_y, test_data_y = train_test_split(data_embeded['text'], data_embeded['headline'],\n",
    "                                         test_size=0.2, random_state=42)"
   ]
  },
  {
   "cell_type": "code",
   "execution_count": 150,
   "metadata": {},
   "outputs": [],
   "source": [
    "class TextSummarizerRNN(nn.Module):\n",
    "    def __init__(self, input_size, hidden_size, output_size, max_seq_len):\n",
    "        super(TextSummarizerRNN, self).__init__()\n",
    "        self.hidden_size = hidden_size\n",
    "        self.max_seq_len = max_seq_len\n",
    "\n",
    "        self.rnn = nn.RNN(input_size, hidden_size, batch_first=True)\n",
    "        self.layer_norm = nn.LayerNorm(hidden_size)\n",
    "        self.decoder = nn.Linear(hidden_size, output_size)\n",
    "        self.output_projection = nn.Linear(output_size, output_size * max_seq_len)\n",
    "\n",
    "    def forward(self, x):\n",
    "        # x shape: [batch_size, seq_len, input_size]\n",
    "        _, hidden = self.rnn(x)\n",
    "        # hidden shape: [1, batch_size, hidden_size]\n",
    "\n",
    "        hidden = self.layer_norm(hidden.squeeze(0))\n",
    "        # hidden shape: [batch_size, hidden_size]\n",
    "\n",
    "        decoded = self.decoder(hidden)\n",
    "        # decoded shape: [batch_size, output_size]\n",
    "\n",
    "        output = self.output_projection(decoded)\n",
    "        # reshape to match target shape\n",
    "        output = output.view(-1, self.max_seq_len, output.size(-1) // self.max_seq_len)\n",
    "        # output shape: [batch_size, max_seq_len, output_size]\n",
    "\n",
    "        return output"
   ]
  },
  {
   "cell_type": "code",
   "execution_count": 152,
   "metadata": {},
   "outputs": [],
   "source": [
    "rnn_model_summariser = TextSummarizerRNN(input_size, hidden_size, output_size, max_seq_len)\n",
    "\n",
    "criterion = nn.MSELoss()\n",
    "optimizer = torch.optim.Adam(rnn_model_summariser.parameters(), lr=0.001)"
   ]
  },
  {
   "cell_type": "code",
   "execution_count": 153,
   "metadata": {},
   "outputs": [],
   "source": [
    "class SummaryDataset(torch.utils.data.Dataset):\n",
    "    def __init__(self, data_x, data_y):\n",
    "        self.texts = torch.tensor(data_x, dtype=torch.float32)\n",
    "        self.headlines = torch.tensor(data_y, dtype=torch.float32)\n",
    "\n",
    "    def __len__(self):\n",
    "        return len(self.texts)\n",
    "\n",
    "    def __getitem__(self, idx):\n",
    "        return self.texts[idx], self.headlines[idx]"
   ]
  },
  {
   "cell_type": "code",
   "execution_count": 154,
   "metadata": {},
   "outputs": [],
   "source": [
    "train_dataset = SummaryDataset(train_data_x, train_data_y)\n",
    "test_dataset = SummaryDataset(test_data_x, test_data_y)\n",
    "\n",
    "train_loader = DataLoader(train_dataset, batch_size=32, shuffle=True)\n",
    "test_loader = DataLoader(test_dataset, batch_size=32)"
   ]
  },
  {
   "cell_type": "code",
   "execution_count": 155,
   "metadata": {},
   "outputs": [
    {
     "name": "stdout",
     "output_type": "stream",
     "text": [
      "Epoch 1/10, Train Loss: 0.0100, Test Loss: 0.0067\n",
      "Epoch 2/10, Train Loss: 0.0058, Test Loss: 0.0052\n",
      "Epoch 3/10, Train Loss: 0.0045, Test Loss: 0.0033\n",
      "Epoch 4/10, Train Loss: 0.0026, Test Loss: 0.0018\n",
      "Epoch 5/10, Train Loss: 0.0016, Test Loss: 0.0014\n",
      "Epoch 6/10, Train Loss: 0.0010, Test Loss: 0.0008\n",
      "Epoch 7/10, Train Loss: 0.0006, Test Loss: 0.0005\n",
      "Epoch 8/10, Train Loss: 0.0005, Test Loss: 0.0004\n",
      "Epoch 9/10, Train Loss: 0.0004, Test Loss: 0.0004\n",
      "Epoch 10/10, Train Loss: 0.0003, Test Loss: 0.0002\n"
     ]
    }
   ],
   "source": [
    "train_losses = []\n",
    "test_losses = []\n",
    "\n",
    "for epoch in range(epochs):\n",
    "    # Training Phase\n",
    "    rnn_model_summariser.train()\n",
    "    epoch_train_loss = 0\n",
    "    for inputs, targets in train_loader:\n",
    "        inputs, targets = inputs.to(device), targets.to(device)\n",
    "\n",
    "        optimizer.zero_grad()\n",
    "        outputs = rnn_model_summariser(inputs)\n",
    "        loss = criterion(outputs, targets)\n",
    "        loss.backward()\n",
    "        optimizer.step()\n",
    "\n",
    "        epoch_train_loss += loss.item()\n",
    "\n",
    "    train_losses.append(epoch_train_loss / len(train_loader))\n",
    "\n",
    "    # Evaluation Phase\n",
    "    rnn_model_summariser.eval()\n",
    "    epoch_test_loss = 0\n",
    "    with torch.no_grad():\n",
    "        for inputs, targets in test_loader:\n",
    "            inputs, targets = inputs.to(device), targets.to(device)\n",
    "            outputs = rnn_model_summariser(inputs)\n",
    "            loss = criterion(outputs, targets)\n",
    "            epoch_test_loss += loss.item()\n",
    "\n",
    "    test_losses.append(epoch_test_loss / len(test_loader))\n",
    "\n",
    "    print(f\"Epoch {epoch + 1}/{epochs}, Train Loss: {train_losses[-1]:.4f}, Test Loss: {test_losses[-1]:.4f}\")\n"
   ]
  },
  {
   "cell_type": "code",
   "execution_count": 156,
   "metadata": {},
   "outputs": [
    {
     "data": {
      "image/png": "[encoded data removed]",
      "text/plain": [
       "<Figure size 640x480 with 1 Axes>"
      ]
     },
     "metadata": {},
     "output_type": "display_data"
    }
   ],
   "source": [
    "plt.plot(train_losses, label=\"Train Loss\")\n",
    "plt.plot(test_losses, label=\"Test Loss\")\n",
    "plt.title(\"Training and Testing Loss\")\n",
    "plt.xlabel(\"Epoch\")\n",
    "plt.ylabel(\"Loss\")\n",
    "plt.legend()\n",
    "plt.show()"
   ]
  }
 ],
 "metadata": {
  "kernelspec": {
   "display_name": "venv_nlp",
   "language": "python",
   "name": "python3"
  },
  "language_info": {
   "codemirror_mode": {
    "name": "ipython",
    "version": 3
   },
   "file_extension": ".py",
   "mimetype": "text/x-python",
   "name": "python",
   "nbconvert_exporter": "python",
   "pygments_lexer": "ipython3",
   "version": "3.12.2"
  }
 },
 "nbformat": 4,
 "nbformat_minor": 2
}
